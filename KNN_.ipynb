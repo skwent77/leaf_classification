{
  "nbformat": 4,
  "nbformat_minor": 0,
  "metadata": {
    "anaconda-cloud": {},
    "kernelspec": {
      "display_name": "Python 3",
      "language": "python",
      "name": "python3"
    },
    "language_info": {
      "codemirror_mode": {
        "name": "ipython",
        "version": 3
      },
      "file_extension": ".py",
      "mimetype": "text/x-python",
      "name": "python",
      "nbconvert_exporter": "python",
      "pygments_lexer": "ipython3",
      "version": "3.8.3"
    },
    "name": "Train_Test_Splits_Regularization_Exercises-ANSWERS",
    "notebookId": 2125319687183944,
    "colab": {
      "provenance": []
    }
  },
  "cells": [
    {
      "cell_type": "code",
      "metadata": {
        "id": "Hym-K-SqgfxH"
      },
      "source": [
        "import pandas as pd\n",
        "import os\n",
        "import matplotlib.pyplot as plt\n",
        "import warnings\n",
        "\n",
        "from sklearn.preprocessing import scale\n",
        "from sklearn.preprocessing import StandardScaler\n",
        "from sklearn.metrics import mean_squared_error"
      ],
      "execution_count": null,
      "outputs": []
    },
    {
      "cell_type": "code",
      "metadata": {
        "id": "Qx9f90aXgfxQ"
      },
      "source": [
        "from __future__ import print_function\n",
        "import os\n",
        "data_path = ['data/']"
      ],
      "execution_count": null,
      "outputs": []
    },
    {
      "cell_type": "markdown",
      "metadata": {
        "run_control": {
          "marked": true
        },
        "id": "DH172ZCcgfxe"
      },
      "source": [
        "## Question 1\n",
        "\n",
        "* Import the data using Pandas and examine the shape. There are 79 feature columns plus the predictor, the sale price (`SalePrice`).\n",
        "* There are three different types: integers (`int64`), floats (`float64`), and strings (`object`, categoricals). Examine how many there are of each data type."
      ]
    },
    {
      "cell_type": "code",
      "metadata": {
        "id": "YpNrOqCxgfxf"
      },
      "source": [
        "train_file_path= os.sep.join(data_path+['Adv_IMC_train.csv'])\n",
        "train_df = pd.read_csv(train_file_path,sep=',')\n",
        "test_df = pd.read_csv('Adv_IMC_test.csv')"
      ],
      "execution_count": null,
      "outputs": []
    },
    {
      "cell_type": "code",
      "metadata": {
        "scrolled": true,
        "id": "GsnTYnt6gfxg"
      },
      "source": [
        "train_df['Weight']=train_df['Weight'].str.replace('kg','')\n",
        "train_df['Ram']=train_df['Ram'].str.replace('GB','')\n",
        "train_df['Ram']=train_df['Ram'].astype(int)\n",
        "train_df['Weight']=train_df['Weight'].astype(float)"
      ],
      "execution_count": null,
      "outputs": []
    },
    {
      "cell_type": "code",
      "metadata": {
        "id": "QBZ259oAgfxg"
      },
      "source": [
        "test_df['Weight']=test_df['Weight'].str.replace('kg','')\n",
        "test_df['Ram']=test_df['Ram'].str.replace('GB','')\n",
        "test_df['Ram']=test_df['Ram'].astype(int)\n",
        "test_df['Weight']=test_df['Weight'].astype(float)"
      ],
      "execution_count": null,
      "outputs": []
    },
    {
      "cell_type": "code",
      "metadata": {
        "scrolled": true,
        "id": "D2HwTwofgfxg",
        "outputId": "a2918b44-7601-4ea5-fc97-748f2e31dac4"
      },
      "source": [
        "train_df['Product']"
      ],
      "execution_count": null,
      "outputs": [
        {
          "output_type": "execute_result",
          "data": {
            "text/plain": [
              "0                                    250 G6\n",
              "1            X541NA (N3350/4GB/1TB/FHD/W10)\n",
              "2       15-AC110nv (i7-6500U/6GB/1TB/Radeon\n",
              "3                             Inspiron 7559\n",
              "4                             Blade Stealth\n",
              "                       ...                 \n",
              "1037                         Aspire F5-573G\n",
              "1038      15-bs078cl (i7-7500U/8GB/2TB/W10)\n",
              "1039                    Pavilion 15-AW003nv\n",
              "1040                          ThinkPad E570\n",
              "1041                              Yoga Book\n",
              "Name: Product, Length: 1042, dtype: object"
            ]
          },
          "metadata": {
            "tags": []
          },
          "execution_count": 6
        }
      ]
    },
    {
      "cell_type": "code",
      "metadata": {
        "scrolled": true,
        "id": "-Hc7ZX4ugfxm",
        "outputId": "468270f2-7da4-4a41-83b9-8e8f69914f04"
      },
      "source": [
        "import numpy as np\n",
        "index_NaN_inches = list(train_df[\"Inches\"][train_df[\"Inches\"].isnull()].index)\n",
        "for i in index_NaN_inches :\n",
        "    Inches_med = train_df[\"Inches\"].median()\n",
        "    Inches_pred = train_df[\"Inches\"][train_df['Weight'] == train_df.iloc[i][\"Weight\"]].median()\n",
        "    if not np.isnan(Inches_pred) :\n",
        "        train_df['Inches'].iloc[i] = Inches_pred\n",
        "    else :\n",
        "        train_df['Inches'].iloc[i] = Inches_med"
      ],
      "execution_count": null,
      "outputs": [
        {
          "output_type": "stream",
          "text": [
            "C:\\Users\\user\\miniconda3\\lib\\site-packages\\pandas\\core\\indexing.py:670: SettingWithCopyWarning: \n",
            "A value is trying to be set on a copy of a slice from a DataFrame\n",
            "\n",
            "See the caveats in the documentation: https://pandas.pydata.org/pandas-docs/stable/user_guide/indexing.html#returning-a-view-versus-a-copy\n",
            "  iloc._setitem_with_indexer(indexer, value)\n",
            "C:\\Users\\user\\miniconda3\\lib\\site-packages\\pandas\\core\\indexing.py:670: SettingWithCopyWarning: \n",
            "A value is trying to be set on a copy of a slice from a DataFrame\n",
            "\n",
            "See the caveats in the documentation: https://pandas.pydata.org/pandas-docs/stable/user_guide/indexing.html#returning-a-view-versus-a-copy\n",
            "  iloc._setitem_with_indexer(indexer, value)\n",
            "C:\\Users\\user\\miniconda3\\lib\\site-packages\\pandas\\core\\indexing.py:670: SettingWithCopyWarning: \n",
            "A value is trying to be set on a copy of a slice from a DataFrame\n",
            "\n",
            "See the caveats in the documentation: https://pandas.pydata.org/pandas-docs/stable/user_guide/indexing.html#returning-a-view-versus-a-copy\n",
            "  iloc._setitem_with_indexer(indexer, value)\n",
            "C:\\Users\\user\\miniconda3\\lib\\site-packages\\pandas\\core\\indexing.py:670: SettingWithCopyWarning: \n",
            "A value is trying to be set on a copy of a slice from a DataFrame\n",
            "\n",
            "See the caveats in the documentation: https://pandas.pydata.org/pandas-docs/stable/user_guide/indexing.html#returning-a-view-versus-a-copy\n",
            "  iloc._setitem_with_indexer(indexer, value)\n",
            "C:\\Users\\user\\miniconda3\\lib\\site-packages\\pandas\\core\\indexing.py:670: SettingWithCopyWarning: \n",
            "A value is trying to be set on a copy of a slice from a DataFrame\n",
            "\n",
            "See the caveats in the documentation: https://pandas.pydata.org/pandas-docs/stable/user_guide/indexing.html#returning-a-view-versus-a-copy\n",
            "  iloc._setitem_with_indexer(indexer, value)\n",
            "C:\\Users\\user\\miniconda3\\lib\\site-packages\\pandas\\core\\indexing.py:670: SettingWithCopyWarning: \n",
            "A value is trying to be set on a copy of a slice from a DataFrame\n",
            "\n",
            "See the caveats in the documentation: https://pandas.pydata.org/pandas-docs/stable/user_guide/indexing.html#returning-a-view-versus-a-copy\n",
            "  iloc._setitem_with_indexer(indexer, value)\n",
            "C:\\Users\\user\\miniconda3\\lib\\site-packages\\pandas\\core\\indexing.py:670: SettingWithCopyWarning: \n",
            "A value is trying to be set on a copy of a slice from a DataFrame\n",
            "\n",
            "See the caveats in the documentation: https://pandas.pydata.org/pandas-docs/stable/user_guide/indexing.html#returning-a-view-versus-a-copy\n",
            "  iloc._setitem_with_indexer(indexer, value)\n",
            "C:\\Users\\user\\miniconda3\\lib\\site-packages\\pandas\\core\\indexing.py:670: SettingWithCopyWarning: \n",
            "A value is trying to be set on a copy of a slice from a DataFrame\n",
            "\n",
            "See the caveats in the documentation: https://pandas.pydata.org/pandas-docs/stable/user_guide/indexing.html#returning-a-view-versus-a-copy\n",
            "  iloc._setitem_with_indexer(indexer, value)\n",
            "C:\\Users\\user\\miniconda3\\lib\\site-packages\\pandas\\core\\indexing.py:670: SettingWithCopyWarning: \n",
            "A value is trying to be set on a copy of a slice from a DataFrame\n",
            "\n",
            "See the caveats in the documentation: https://pandas.pydata.org/pandas-docs/stable/user_guide/indexing.html#returning-a-view-versus-a-copy\n",
            "  iloc._setitem_with_indexer(indexer, value)\n",
            "C:\\Users\\user\\miniconda3\\lib\\site-packages\\pandas\\core\\indexing.py:670: SettingWithCopyWarning: \n",
            "A value is trying to be set on a copy of a slice from a DataFrame\n",
            "\n",
            "See the caveats in the documentation: https://pandas.pydata.org/pandas-docs/stable/user_guide/indexing.html#returning-a-view-versus-a-copy\n",
            "  iloc._setitem_with_indexer(indexer, value)\n",
            "C:\\Users\\user\\miniconda3\\lib\\site-packages\\numpy\\lib\\nanfunctions.py:1111: RuntimeWarning: Mean of empty slice\n",
            "  return np.nanmean(a, axis, out=out, keepdims=keepdims)\n",
            "C:\\Users\\user\\miniconda3\\lib\\site-packages\\pandas\\core\\indexing.py:670: SettingWithCopyWarning: \n",
            "A value is trying to be set on a copy of a slice from a DataFrame\n",
            "\n",
            "See the caveats in the documentation: https://pandas.pydata.org/pandas-docs/stable/user_guide/indexing.html#returning-a-view-versus-a-copy\n",
            "  iloc._setitem_with_indexer(indexer, value)\n",
            "C:\\Users\\user\\miniconda3\\lib\\site-packages\\pandas\\core\\indexing.py:670: SettingWithCopyWarning: \n",
            "A value is trying to be set on a copy of a slice from a DataFrame\n",
            "\n",
            "See the caveats in the documentation: https://pandas.pydata.org/pandas-docs/stable/user_guide/indexing.html#returning-a-view-versus-a-copy\n",
            "  iloc._setitem_with_indexer(indexer, value)\n",
            "C:\\Users\\user\\miniconda3\\lib\\site-packages\\pandas\\core\\indexing.py:670: SettingWithCopyWarning: \n",
            "A value is trying to be set on a copy of a slice from a DataFrame\n",
            "\n",
            "See the caveats in the documentation: https://pandas.pydata.org/pandas-docs/stable/user_guide/indexing.html#returning-a-view-versus-a-copy\n",
            "  iloc._setitem_with_indexer(indexer, value)\n",
            "C:\\Users\\user\\miniconda3\\lib\\site-packages\\pandas\\core\\indexing.py:670: SettingWithCopyWarning: \n",
            "A value is trying to be set on a copy of a slice from a DataFrame\n",
            "\n",
            "See the caveats in the documentation: https://pandas.pydata.org/pandas-docs/stable/user_guide/indexing.html#returning-a-view-versus-a-copy\n",
            "  iloc._setitem_with_indexer(indexer, value)\n",
            "C:\\Users\\user\\miniconda3\\lib\\site-packages\\pandas\\core\\indexing.py:670: SettingWithCopyWarning: \n",
            "A value is trying to be set on a copy of a slice from a DataFrame\n",
            "\n",
            "See the caveats in the documentation: https://pandas.pydata.org/pandas-docs/stable/user_guide/indexing.html#returning-a-view-versus-a-copy\n",
            "  iloc._setitem_with_indexer(indexer, value)\n",
            "C:\\Users\\user\\miniconda3\\lib\\site-packages\\pandas\\core\\indexing.py:670: SettingWithCopyWarning: \n",
            "A value is trying to be set on a copy of a slice from a DataFrame\n",
            "\n",
            "See the caveats in the documentation: https://pandas.pydata.org/pandas-docs/stable/user_guide/indexing.html#returning-a-view-versus-a-copy\n",
            "  iloc._setitem_with_indexer(indexer, value)\n",
            "C:\\Users\\user\\miniconda3\\lib\\site-packages\\pandas\\core\\indexing.py:670: SettingWithCopyWarning: \n",
            "A value is trying to be set on a copy of a slice from a DataFrame\n",
            "\n",
            "See the caveats in the documentation: https://pandas.pydata.org/pandas-docs/stable/user_guide/indexing.html#returning-a-view-versus-a-copy\n",
            "  iloc._setitem_with_indexer(indexer, value)\n"
          ],
          "name": "stderr"
        }
      ]
    },
    {
      "cell_type": "code",
      "metadata": {
        "id": "KjYIPV9Wgfxn"
      },
      "source": [
        "drop_target=list(set(train_df.Company).difference(set(test_df.Company)))"
      ],
      "execution_count": null,
      "outputs": []
    },
    {
      "cell_type": "code",
      "metadata": {
        "id": "gPy-xzM2gfxn"
      },
      "source": [
        "train_df_com=train_df[~train_df['Company'].isin(drop_target)]\n",
        "train_df_company_refined=train_df_com.drop(columns='Product')"
      ],
      "execution_count": null,
      "outputs": []
    },
    {
      "cell_type": "code",
      "metadata": {
        "id": "n1TBMYwNgfxo"
      },
      "source": [],
      "execution_count": null,
      "outputs": []
    },
    {
      "cell_type": "code",
      "metadata": {
        "id": "SqHChtb_gfxo"
      },
      "source": [
        "trainDF=CPU_transform(train_df_company_refined)\n",
        "testDF= CPU_transform(test_df)"
      ],
      "execution_count": null,
      "outputs": []
    },
    {
      "cell_type": "code",
      "metadata": {
        "id": "NaXZSbS2gfxp",
        "outputId": "0054eb09-1c74-4088-d27d-035fd363d8d3"
      },
      "source": [
        "trainDF['OpSys'].unique()"
      ],
      "execution_count": null,
      "outputs": [
        {
          "output_type": "execute_result",
          "data": {
            "text/plain": [
              "array(['No OS', 'Windows 10', 'Windows 7', 'Mac OS X', 'Linux',\n",
              "       'Chrome OS', 'Windows 10 S', 'macOS', 'Android'], dtype=object)"
            ]
          },
          "metadata": {
            "tags": []
          },
          "execution_count": 12
        }
      ]
    },
    {
      "cell_type": "code",
      "metadata": {
        "id": "JPgA80Ujgfxp"
      },
      "source": [
        "trainDF['OpSys']=trainDF['OpSys'].apply(lambda x: 'macOS' if x ==\"Mac OS X\" else x)"
      ],
      "execution_count": null,
      "outputs": []
    },
    {
      "cell_type": "code",
      "metadata": {
        "id": "cvgYIotugfxp"
      },
      "source": [
        "def OS_feature_train(df):\n",
        "    os_temp = pd.get_dummies(df['OpSys'])\n",
        "    os_temp['Windows']= os_temp['Windows 7']+ os_temp['Windows 10']+ os_temp['Windows 10 S']\n",
        "\n",
        "    os_temp = os_temp.drop(['Windows 10','Windows 10 S','Windows 7'],axis=1)\n",
        "    print(os_temp.tail(10))\n",
        "\n",
        "    os_temp['MacOS'] = os_temp['macOS']*3\n",
        "    os_temp = os_temp.drop(['macOS'],axis=1)\n",
        "    dfDrop= df.drop(['OpSys'],axis=1)\n",
        "    print(dfDrop)\n",
        "    print(os_temp.shape)\n",
        "    new= pd.concat([dfDrop,os_temp],axis=1)\n",
        "    return new"
      ],
      "execution_count": null,
      "outputs": []
    },
    {
      "cell_type": "code",
      "metadata": {
        "id": "5nyh0Aiagfxp",
        "outputId": "aadddf47-9e96-48e5-b4a6-4e44ecf9e2a8"
      },
      "source": [
        "trainNew=OS_feature_train(trainDF)\n",
        "testNew= OS_feature_train(testDF)"
      ],
      "execution_count": null,
      "outputs": [
        {
          "output_type": "stream",
          "text": [
            "      Android  Chrome OS  Linux  No OS  macOS  Windows\n",
            "1032        0          0      0      0      0        1\n",
            "1033        0          0      0      0      0        1\n",
            "1034        0          0      0      0      0        1\n",
            "1035        0          0      0      0      0        1\n",
            "1036        0          0      0      0      0        1\n",
            "1037        0          0      0      0      0        1\n",
            "1038        0          0      0      0      0        1\n",
            "1039        0          0      0      0      0        1\n",
            "1040        0          0      0      0      0        1\n",
            "1041        0          0      0      0      0        1\n",
            "     Company            TypeName  Inches  \\\n",
            "0         HP            Notebook    15.6   \n",
            "1       Asus            Notebook    15.6   \n",
            "2         HP            Notebook    15.6   \n",
            "3       Dell              Gaming    15.6   \n",
            "4      Razer           Ultrabook    12.5   \n",
            "...      ...                 ...     ...   \n",
            "1037    Acer            Notebook    15.6   \n",
            "1038      HP            Notebook    15.6   \n",
            "1039      HP            Notebook    15.6   \n",
            "1040  Lenovo            Notebook    15.6   \n",
            "1041  Lenovo  2 in 1 Convertible    10.1   \n",
            "\n",
            "                                   ScreenResolution  \\\n",
            "0                                          1366x768   \n",
            "1                                 Full HD 1920x1080   \n",
            "2                                          1366x768   \n",
            "3     IPS Panel Touchscreen / 4K Ultra HD 3840x2160   \n",
            "4     IPS Panel 4K Ultra HD / Touchscreen 3840x2160   \n",
            "...                                             ...   \n",
            "1037                              Full HD 1920x1080   \n",
            "1038                                       1366x768   \n",
            "1039                              Full HD 1920x1080   \n",
            "1040                    IPS Panel Full HD 1920x1080   \n",
            "1041                IPS Panel Touchscreen 1920x1200   \n",
            "\n",
            "                                       Cpu  Ram                Memory  \\\n",
            "0               Intel+Core+i5+7200U+2.5GHz    4             500GB HDD   \n",
            "1     Intel+Celeron+Dual+Core+N3350+1.1GHz    4               1TB HDD   \n",
            "2               Intel+Core+i7+6500U+2.5GHz    6               1TB HDD   \n",
            "3              Intel+Core+i7+6700HQ+2.6GHz   16  128GB SSD +  1TB HDD   \n",
            "4               Intel+Core+i7+7500U+2.5GHz   16             512GB SSD   \n",
            "...                                    ...  ...                   ...   \n",
            "1037            Intel+Core+i5+7200U+2.5GHz    8  256GB SSD +  1TB HDD   \n",
            "1038            Intel+Core+i7+7500U+2.7GHz    8               2TB HDD   \n",
            "1039             AMD+A9-Series+9410+2.9GHz    6          1.0TB Hybrid   \n",
            "1040            Intel+Core+i5+7200U+2.5GHz    8               1TB HDD   \n",
            "1041           Intel+Atom+x5-Z8550+1.44GHz    4    64GB Flash Storage   \n",
            "\n",
            "                          Gpu  Weight    price  ...  Cpu_Atom Cpu_Celeron2  \\\n",
            "0       Intel HD Graphics 620    1.86   393.90  ...         0            0   \n",
            "1       Intel HD Graphics 500    2.00   344.00  ...         0         3350   \n",
            "2          AMD Radeon R5 M330    2.19   764.00  ...         0            0   \n",
            "3     Nvidia GeForce GTX 960M    2.72  1099.00  ...         0            0   \n",
            "4       Intel HD Graphics 620    1.29  1799.00  ...         0            0   \n",
            "...                       ...     ...      ...  ...       ...          ...   \n",
            "1037  Nvidia GeForce GTX 950M    2.40   799.00  ...         0            0   \n",
            "1038    Intel HD Graphics 620    2.04   629.00  ...         0            0   \n",
            "1039       AMD Radeon R7 M440    2.04   549.99  ...         0            0   \n",
            "1040    Intel HD Graphics 620    2.30   850.66  ...         0            0   \n",
            "1041    Intel HD Graphics 400    0.69   479.00  ...      8550            0   \n",
            "\n",
            "      Cpu_Celeron4  Cpu_i3  Cpu_i5  Cpu_i7  Cpu_AMD_A  Cpu_AMD_Ryzen  \\\n",
            "0                0       0    7200       0          0              0   \n",
            "1                0       0       0       0          0              0   \n",
            "2                0       0       0    6500          0              0   \n",
            "3                0       0       0    6700          0              0   \n",
            "4                0       0       0    7500          0              0   \n",
            "...            ...     ...     ...     ...        ...            ...   \n",
            "1037             0       0    7200       0          0              0   \n",
            "1038             0       0       0    7500          0              0   \n",
            "1039             0       0       0       0      99410              0   \n",
            "1040             0       0    7200       0          0              0   \n",
            "1041             0       0       0       0          0              0   \n",
            "\n",
            "      Cpu_AMD_FX  Cpu_AMD_E  \n",
            "0              0          0  \n",
            "1              0          0  \n",
            "2              0          0  \n",
            "3              0          0  \n",
            "4              0          0  \n",
            "...          ...        ...  \n",
            "1037           0          0  \n",
            "1038           0          0  \n",
            "1039           0          0  \n",
            "1040           0          0  \n",
            "1041           0       8550  \n",
            "\n",
            "[1029 rows x 25 columns]\n",
            "(1029, 6)\n",
            "     Chrome OS  Linux  No OS  macOS  Windows\n",
            "251          0      0      0      0        1\n",
            "252          0      0      0      0        1\n",
            "253          0      0      0      0        1\n",
            "254          0      1      0      0        0\n",
            "255          0      0      0      0        1\n",
            "256          0      0      0      0        1\n",
            "257          0      0      0      0        1\n",
            "258          0      0      0      0        1\n",
            "259          0      0      0      0        1\n",
            "260          0      0      0      0        1\n",
            "     Company             Product            TypeName  Inches  \\\n",
            "0    Toshiba   Portege X30-D-10J            Notebook    13.3   \n",
            "1         HP   Spectre 13-V100nv            Notebook    13.3   \n",
            "2     Lenovo   IdeaPad 310-15ABR            Notebook    15.6   \n",
            "3     Lenovo  IdeaPad Y700-15ISK            Notebook    15.6   \n",
            "4         HP       EliteBook 820           Ultrabook    12.5   \n",
            "..       ...                 ...                 ...     ...   \n",
            "256     Dell       Inspiron 7378  2 in 1 Convertible    13.3   \n",
            "257       HP         Probook 470            Notebook    17.3   \n",
            "258     Dell      Precision 7720         Workstation    17.3   \n",
            "259   Lenovo      Thinkpad T470p           Ultrabook    14.0   \n",
            "260   Lenovo  Legion Y520-15IKBN              Gaming    15.6   \n",
            "\n",
            "                              ScreenResolution                          Cpu  \\\n",
            "0                  IPS Panel Full HD 1920x1080   Intel+Core+i5+7200U+2.5GHz   \n",
            "1                  IPS Panel Full HD 1920x1080   Intel+Core+i5+7200U+2.5GHz   \n",
            "2                            Full HD 1920x1080  AMD+A10-Series+9600P+2.4GHz   \n",
            "3                  IPS Panel Full HD 1920x1080  Intel+Core+i7+6700HQ+2.6GHz   \n",
            "4                                     1366x768   Intel+Core+i5+6200U+2.3GHz   \n",
            "..                                         ...                          ...   \n",
            "256  IPS Panel Full HD / Touchscreen 1920x1080   Intel+Core+i7+7500U+2.7GHz   \n",
            "257                          Full HD 1920x1080   Intel+Core+i7+8550U+1.8GHz   \n",
            "258                          Full HD 1920x1080  Intel+Core+i7+7820HQ+2.9GHz   \n",
            "259                IPS Panel Full HD 2560x1440  Intel+Core+i7+7700HQ+2.8GHz   \n",
            "260                IPS Panel Full HD 1920x1080  Intel+Core+i7+7700HQ+2.8GHz   \n",
            "\n",
            "     Ram                Memory                         Gpu  Weight  ...  \\\n",
            "0      8             256GB SSD       Intel HD Graphics 620    1.05  ...   \n",
            "1      8             256GB SSD       Intel HD Graphics 620    1.11  ...   \n",
            "2      6               1TB HDD           AMD Radeon R5 430    2.40  ...   \n",
            "3      8               1TB HDD     Nvidia GeForce GTX 960M    2.60  ...   \n",
            "4      4             256GB SSD       Intel HD Graphics 520    1.26  ...   \n",
            "..   ...                   ...                         ...     ...  ...   \n",
            "256   12             256GB SSD       Intel HD Graphics 620    1.60  ...   \n",
            "257    8             256GB SSD       Nvidia GeForce 930MX     2.50  ...   \n",
            "258   16             256GB SSD         Nvidia Quadro M1200    3.42  ...   \n",
            "259    8             512GB SSD     Nvidia GeForce GT 940MX    1.70  ...   \n",
            "260    8  128GB SSD +  1TB HDD  Nvidia GeForce GTX 1050 Ti    2.50  ...   \n",
            "\n",
            "     Cpu_Atom Cpu_Celeron2  Cpu_Celeron4  Cpu_i3  Cpu_i5  Cpu_i7  Cpu_AMD_A  \\\n",
            "0           0            0             0       0    7200       0          0   \n",
            "1           0            0             0       0    7200       0          0   \n",
            "2           0            0             0       0       0       0     109600   \n",
            "3           0            0             0       0       0    6700          0   \n",
            "4           0            0             0       0    6200       0          0   \n",
            "..        ...          ...           ...     ...     ...     ...        ...   \n",
            "256         0            0             0       0       0    7500          0   \n",
            "257         0            0             0       0       0    8550          0   \n",
            "258         0            0             0       0       0    7820          0   \n",
            "259         0            0             0       0       0    7700          0   \n",
            "260         0            0             0       0       0    7700          0   \n",
            "\n",
            "     Cpu_AMD_Ryzen  Cpu_AMD_FX  Cpu_AMD_E  \n",
            "0                0           0          0  \n",
            "1                0           0          0  \n",
            "2                0           0          0  \n",
            "3                0           0          0  \n",
            "4                0           0          0  \n",
            "..             ...         ...        ...  \n",
            "256              0           0          0  \n",
            "257              0           0          0  \n",
            "258              0           0          0  \n",
            "259              0           0          0  \n",
            "260              0           0          0  \n",
            "\n",
            "[261 rows x 25 columns]\n",
            "(261, 5)\n"
          ],
          "name": "stdout"
        }
      ]
    },
    {
      "cell_type": "code",
      "metadata": {
        "id": "Tjhy63-Ngfxq",
        "outputId": "356e9236-18c1-43b6-bcd1-00eeabdbe2ff"
      },
      "source": [
        "trainNew['GHz']"
      ],
      "execution_count": null,
      "outputs": [
        {
          "output_type": "execute_result",
          "data": {
            "text/plain": [
              "0       2.50\n",
              "1       1.10\n",
              "2       2.50\n",
              "3       2.60\n",
              "4       2.50\n",
              "        ... \n",
              "1037    2.50\n",
              "1038    2.70\n",
              "1039    2.90\n",
              "1040    2.50\n",
              "1041    1.44\n",
              "Name: GHz, Length: 1029, dtype: float64"
            ]
          },
          "metadata": {
            "tags": []
          },
          "execution_count": 16
        }
      ]
    },
    {
      "cell_type": "code",
      "metadata": {
        "id": "L6G-UAPfgfxq",
        "outputId": "2adb5ae4-e22f-49f0-e5e2-e998a68cb742"
      },
      "source": [
        "trainNew.columns"
      ],
      "execution_count": null,
      "outputs": [
        {
          "output_type": "execute_result",
          "data": {
            "text/plain": [
              "Index(['Company', 'TypeName', 'Inches', 'ScreenResolution', 'Cpu', 'Ram',\n",
              "       'Memory', 'Gpu', 'Weight', 'price', 'GHz', 'Cpu_Xeon', 'Cpu_CoreM',\n",
              "       'Cpu_Pentium2', 'Cpu_Pentium4', 'Cpu_Atom', 'Cpu_Celeron2',\n",
              "       'Cpu_Celeron4', 'Cpu_i3', 'Cpu_i5', 'Cpu_i7', 'Cpu_AMD_A',\n",
              "       'Cpu_AMD_Ryzen', 'Cpu_AMD_FX', 'Cpu_AMD_E', 'Android', 'Chrome OS',\n",
              "       'Linux', 'No OS', 'Windows', 'MacOS'],\n",
              "      dtype='object')"
            ]
          },
          "metadata": {
            "tags": []
          },
          "execution_count": 17
        }
      ]
    },
    {
      "cell_type": "code",
      "metadata": {
        "id": "X7PyhvBAgfxr"
      },
      "source": [
        "trainNew = trainNew[['Company', 'TypeName', 'Inches', 'ScreenResolution', 'Cpu', 'Ram',\n",
        "       'Memory', 'Gpu', 'Weight', 'GHz', 'Cpu_Xeon', 'Cpu_CoreM',\n",
        "       'Cpu_Pentium2', 'Cpu_Pentium4', 'Cpu_Atom', 'Cpu_Celeron2',\n",
        "       'Cpu_Celeron4', 'Cpu_i3', 'Cpu_i5', 'Cpu_i7', 'Cpu_AMD_A',\n",
        "       'Cpu_AMD_Ryzen', 'Cpu_AMD_FX', 'Cpu_AMD_E', 'Android', 'Chrome OS',\n",
        "       'Linux', 'No OS', 'Windows', 'MacOS', 'price']]"
      ],
      "execution_count": null,
      "outputs": []
    },
    {
      "cell_type": "code",
      "metadata": {
        "id": "yjOKUGekgfxs"
      },
      "source": [
        "Numcols=['Inches','Ram','Weight', 'Inches', 'ScreenResolution', 'Cpu', 'Ram','Weight', 'GHz', 'Cpu_Xeon', 'Cpu_CoreM', 'Cpu_Pentium2', 'Cpu_Pentium4', 'Cpu_Atom', 'Cpu_Celeron2', 'Cpu_Celeron4']"
      ],
      "execution_count": null,
      "outputs": []
    },
    {
      "cell_type": "code",
      "metadata": {
        "scrolled": true,
        "id": "lAIn8M_Cgfxx"
      },
      "source": [
        "trainNew.info()"
      ],
      "execution_count": null,
      "outputs": []
    },
    {
      "cell_type": "code",
      "metadata": {
        "id": "0iT7X0sfgfxy"
      },
      "source": [
        "cateCols=['Company','TypeName','ScreenResolution','Memory', 'Gpu']\n",
        "\n",
        "trainNew.reset_index(drop=True,inplace=True)\n",
        "testNew.reset_index(drop=True,inplace=True)"
      ],
      "execution_count": null,
      "outputs": []
    },
    {
      "cell_type": "code",
      "metadata": {
        "id": "fYo3YNgggfxy"
      },
      "source": [
        "trainNew.drop(columns=['Android'],inplace=True)"
      ],
      "execution_count": null,
      "outputs": []
    },
    {
      "cell_type": "code",
      "metadata": {
        "id": "0mh0aNyLgfx0",
        "outputId": "8d261492-575a-408d-9667-5174c32e7c73"
      },
      "source": [
        "print('train data 모양',trainNew.shape)\n",
        "print('test data모양',testNew.shape)"
      ],
      "execution_count": null,
      "outputs": [
        {
          "output_type": "stream",
          "text": [
            "train data 모양 (1029, 30)\n",
            "test data모양 (261, 30)\n"
          ],
          "name": "stdout"
        }
      ]
    },
    {
      "cell_type": "code",
      "metadata": {
        "id": "il35CIcTgfx0",
        "outputId": "a0b14757-01a3-4cd4-8b50-e011f1e33a04"
      },
      "source": [
        "set(testNew.columns).difference(trainNew.columns)"
      ],
      "execution_count": null,
      "outputs": [
        {
          "output_type": "execute_result",
          "data": {
            "text/plain": [
              "{'Product'}"
            ]
          },
          "metadata": {
            "tags": []
          },
          "execution_count": 24
        }
      ]
    },
    {
      "cell_type": "code",
      "metadata": {
        "id": "Vf6AvAe1gfx1"
      },
      "source": [
        "testNew.drop(columns=['Product','Cpu','Cpu_Xeon'],inplace=True)"
      ],
      "execution_count": null,
      "outputs": []
    },
    {
      "cell_type": "code",
      "metadata": {
        "id": "qLuswWEmgfx2"
      },
      "source": [
        "for feature in cateCols:\n",
        "    labels_ordered= trainNew.groupby([feature])['price'].mean().sort_values().index\n",
        "    labels_ordered={k:i for i,k in enumerate(labels_ordered,0)}\n",
        "    trainNew[feature]=trainNew[feature].map(labels_ordered)\n",
        "    testNew[feature]=testNew[feature].map(labels_ordered)"
      ],
      "execution_count": null,
      "outputs": []
    },
    {
      "cell_type": "code",
      "metadata": {
        "id": "ACN0ZMcMgfx3"
      },
      "source": [
        "y=trainNew['price']\n",
        "x=trainNew.drop(columns=['Cpu','price','Cpu_Xeon'])"
      ],
      "execution_count": null,
      "outputs": []
    },
    {
      "cell_type": "code",
      "metadata": {
        "collapsed": true,
        "id": "qzJDSX-cgfx4",
        "outputId": "a0d57179-df22-4752-d8e9-5669e98c68fa"
      },
      "source": [
        "x.info()"
      ],
      "execution_count": null,
      "outputs": [
        {
          "output_type": "stream",
          "text": [
            "<class 'pandas.core.frame.DataFrame'>\n",
            "RangeIndex: 1029 entries, 0 to 1028\n",
            "Data columns (total 28 columns):\n",
            " #   Column            Non-Null Count  Dtype  \n",
            "---  ------            --------------  -----  \n",
            " 0   Company           1029 non-null   int64  \n",
            " 1   TypeName          1029 non-null   int64  \n",
            " 2   Inches            1029 non-null   float64\n",
            " 3   ScreenResolution  1029 non-null   int64  \n",
            " 4   Ram               1029 non-null   int32  \n",
            " 5   Memory            1029 non-null   int64  \n",
            " 6   Gpu               1029 non-null   int64  \n",
            " 7   Weight            1029 non-null   float64\n",
            " 8   GHz               1029 non-null   float64\n",
            " 9   Cpu_Xeon          1029 non-null   object \n",
            " 10  Cpu_CoreM         1029 non-null   int32  \n",
            " 11  Cpu_Pentium2      1029 non-null   int32  \n",
            " 12  Cpu_Pentium4      1029 non-null   int32  \n",
            " 13  Cpu_Atom          1029 non-null   int32  \n",
            " 14  Cpu_Celeron2      1029 non-null   int32  \n",
            " 15  Cpu_Celeron4      1029 non-null   int32  \n",
            " 16  Cpu_i3            1029 non-null   int32  \n",
            " 17  Cpu_i5            1029 non-null   int32  \n",
            " 18  Cpu_i7            1029 non-null   int32  \n",
            " 19  Cpu_AMD_A         1029 non-null   int32  \n",
            " 20  Cpu_AMD_Ryzen     1029 non-null   int32  \n",
            " 21  Cpu_AMD_FX        1029 non-null   int32  \n",
            " 22  Cpu_AMD_E         1029 non-null   int32  \n",
            " 23  Chrome OS         1029 non-null   uint8  \n",
            " 24  Linux             1029 non-null   uint8  \n",
            " 25  No OS             1029 non-null   uint8  \n",
            " 26  Windows           1029 non-null   uint8  \n",
            " 27  MacOS             1029 non-null   uint8  \n",
            "dtypes: float64(3), int32(14), int64(5), object(1), uint8(5)\n",
            "memory usage: 133.8+ KB\n"
          ],
          "name": "stdout"
        }
      ]
    },
    {
      "cell_type": "markdown",
      "metadata": {
        "id": "DAsX5QOUgfx4"
      },
      "source": [
        "## 약간 변형"
      ]
    },
    {
      "cell_type": "code",
      "metadata": {
        "id": "j_zpvhT8gfx5"
      },
      "source": [
        "from sklearn.preprocessing import MinMaxScaler\n",
        "min_max_scaler=MinMaxScaler()\n",
        "msc = min_max_scaler.fit_transform(x)\n",
        "X = pd.DataFrame(msc,columns=x.columns)"
      ],
      "execution_count": null,
      "outputs": []
    },
    {
      "cell_type": "code",
      "metadata": {
        "id": "ulIiviGZgfx5"
      },
      "source": [
        "from sklearn.model_selection import train_test_split\n",
        "\n",
        "x_train, x_test, y_train, y_test = train_test_split(X, y, test_size=0.25, random_state=42,shuffle = True)"
      ],
      "execution_count": null,
      "outputs": []
    },
    {
      "cell_type": "markdown",
      "metadata": {
        "id": "xA_WnEAwgfx5"
      },
      "source": [
        "## KNN ver2"
      ]
    },
    {
      "cell_type": "code",
      "metadata": {
        "id": "lD2sa1DHgfx6",
        "outputId": "794eb510-f6c7-4774-c78b-c02a49949c14"
      },
      "source": [
        "from sklearn.neighbors import KNeighborsRegressor\n",
        "\n",
        "regressor = KNeighborsRegressor(n_neighbors =5, weights='distance')\n",
        "regressor.fit(x_train,y_train)"
      ],
      "execution_count": null,
      "outputs": [
        {
          "output_type": "execute_result",
          "data": {
            "text/plain": [
              "KNeighborsRegressor(weights='distance')"
            ]
          },
          "metadata": {
            "tags": []
          },
          "execution_count": 62
        }
      ]
    },
    {
      "cell_type": "code",
      "metadata": {
        "id": "D3jjz6STgfx7",
        "outputId": "bf64f287-5d3c-4f3d-a283-38d4034634f8"
      },
      "source": [
        "print(rmse)"
      ],
      "execution_count": null,
      "outputs": [
        {
          "output_type": "stream",
          "text": [
            "295.90858387973725\n"
          ],
          "name": "stdout"
        }
      ]
    },
    {
      "cell_type": "code",
      "metadata": {
        "id": "NDShTBf1gfx7",
        "outputId": "326b1956-1564-4c8b-a61c-5aaee7b3ae85"
      },
      "source": [
        "from sklearn.metrics import mean_squared_error\n",
        "regressorK = KNeighborsRegressor(n_neighbors =6, weights='distance')\n",
        "regressorK.fit(x_train,y_train)\n",
        "y_pred= regressorK.predict(x_test)\n",
        "\n",
        "mseMetric=mean_squared_error(y_pred,y_test)\n",
        "rmse= mseMetric**0.5\n",
        "print(mseMetric)\n",
        "print(rmse)"
      ],
      "execution_count": null,
      "outputs": [
        {
          "output_type": "stream",
          "text": [
            "84500.24732834063\n",
            "290.68926249234016\n"
          ],
          "name": "stdout"
        }
      ]
    },
    {
      "cell_type": "code",
      "metadata": {
        "id": "exmu2y6_gfx8",
        "outputId": "ce832d01-36e7-4417-837c-0e8c64cae76a"
      },
      "source": [
        "y_pred_KNN.shape"
      ],
      "execution_count": null,
      "outputs": [
        {
          "output_type": "execute_result",
          "data": {
            "text/plain": [
              "(261,)"
            ]
          },
          "metadata": {
            "tags": []
          },
          "execution_count": 107
        }
      ]
    },
    {
      "cell_type": "code",
      "metadata": {
        "id": "Lu6r_-7igfx8"
      },
      "source": [
        "mseMetric=mean_squared_error(y_pred_KNN,y_test)"
      ],
      "execution_count": null,
      "outputs": []
    },
    {
      "cell_type": "code",
      "metadata": {
        "id": "s221UxGWgfx9",
        "outputId": "f85eeac0-9cc1-4f5d-9132-b84bd01d4740"
      },
      "source": [
        "from sklearn.linear_model import Lasso\n",
        "\n",
        "regressor2 = KNeighborsRegressor(n_neighbors =6, weights='distance')\n",
        "regressor2.fit(X,y)\n",
        "# LS.predict(tenp)\n",
        "y_pred_KNN = regressor2.predict(tenp)\n",
        "submitDF= pd.DataFrame(y_pred_KNN,columns=['price'])\n",
        "submitDF.iloc[165][0]=4389\n",
        "#165번 167행 배열 zero 기반처럼 차이가 있음...\n",
        "\n",
        "rmse= mseMetric**0.5\n",
        "print(mseMetric)\n",
        "submitDF.shape\n",
        "submitDF.to_csv('신재현_Adv_priceKNN.csv')"
      ],
      "execution_count": null,
      "outputs": [
        {
          "output_type": "stream",
          "text": [
            "84500.24732834063\n"
          ],
          "name": "stdout"
        }
      ]
    },
    {
      "cell_type": "code",
      "metadata": {
        "id": "cx43Pyltgfx-"
      },
      "source": [
        "y_pred_KNN=regressor2.predict(tenp)"
      ],
      "execution_count": null,
      "outputs": []
    },
    {
      "cell_type": "code",
      "metadata": {
        "collapsed": true,
        "id": "l1cESs-qgfx-",
        "outputId": "75dbd22a-dc7e-4d19-9520-964234740a9a"
      },
      "source": [
        "submitDF.tail(120)"
      ],
      "execution_count": null,
      "outputs": [
        {
          "output_type": "execute_result",
          "data": {
            "text/html": [
              "<div>\n",
              "<style scoped>\n",
              "    .dataframe tbody tr th:only-of-type {\n",
              "        vertical-align: middle;\n",
              "    }\n",
              "\n",
              "    .dataframe tbody tr th {\n",
              "        vertical-align: top;\n",
              "    }\n",
              "\n",
              "    .dataframe thead th {\n",
              "        text-align: right;\n",
              "    }\n",
              "</style>\n",
              "<table border=\"1\" class=\"dataframe\">\n",
              "  <thead>\n",
              "    <tr style=\"text-align: right;\">\n",
              "      <th></th>\n",
              "      <th>price</th>\n",
              "    </tr>\n",
              "  </thead>\n",
              "  <tbody>\n",
              "    <tr>\n",
              "      <th>141</th>\n",
              "      <td>1475.175594</td>\n",
              "    </tr>\n",
              "    <tr>\n",
              "      <th>142</th>\n",
              "      <td>1244.576251</td>\n",
              "    </tr>\n",
              "    <tr>\n",
              "      <th>143</th>\n",
              "      <td>658.363535</td>\n",
              "    </tr>\n",
              "    <tr>\n",
              "      <th>144</th>\n",
              "      <td>946.790308</td>\n",
              "    </tr>\n",
              "    <tr>\n",
              "      <th>145</th>\n",
              "      <td>1637.883105</td>\n",
              "    </tr>\n",
              "    <tr>\n",
              "      <th>...</th>\n",
              "      <td>...</td>\n",
              "    </tr>\n",
              "    <tr>\n",
              "      <th>256</th>\n",
              "      <td>1733.074072</td>\n",
              "    </tr>\n",
              "    <tr>\n",
              "      <th>257</th>\n",
              "      <td>1137.343323</td>\n",
              "    </tr>\n",
              "    <tr>\n",
              "      <th>258</th>\n",
              "      <td>2783.500254</td>\n",
              "    </tr>\n",
              "    <tr>\n",
              "      <th>259</th>\n",
              "      <td>2210.930284</td>\n",
              "    </tr>\n",
              "    <tr>\n",
              "      <th>260</th>\n",
              "      <td>1210.593002</td>\n",
              "    </tr>\n",
              "  </tbody>\n",
              "</table>\n",
              "<p>120 rows × 1 columns</p>\n",
              "</div>"
            ],
            "text/plain": [
              "           price\n",
              "141  1475.175594\n",
              "142  1244.576251\n",
              "143   658.363535\n",
              "144   946.790308\n",
              "145  1637.883105\n",
              "..           ...\n",
              "256  1733.074072\n",
              "257  1137.343323\n",
              "258  2783.500254\n",
              "259  2210.930284\n",
              "260  1210.593002\n",
              "\n",
              "[120 rows x 1 columns]"
            ]
          },
          "metadata": {
            "tags": []
          },
          "execution_count": 85
        }
      ]
    },
    {
      "cell_type": "markdown",
      "metadata": {
        "id": "1g1ejhTsgfx-"
      },
      "source": [
        "## 선형 회귀 ver1"
      ]
    },
    {
      "cell_type": "code",
      "metadata": {
        "id": "PFHc3Slqgfx_"
      },
      "source": [
        "from sklearn.linear_model import LinearRegression\n",
        "lr = LinearRegression()\n",
        "lr.fit(x_train,y_train)\n",
        "lr.score(x_train,y_train)\n",
        "y_pred_lr = lr.predict(x_test)"
      ],
      "execution_count": null,
      "outputs": []
    },
    {
      "cell_type": "code",
      "metadata": {
        "id": "Aol50hN_gfx_",
        "outputId": "3ec639a8-6724-464f-f4fd-6226b1a99eea"
      },
      "source": [
        "from sklearn.metrics import mean_squared_error\n",
        "mseMetric=mean_squared_error(y_pred_lr,y_test)\n",
        "rmse= mseMetric**0.5\n",
        "print(mseMetric)"
      ],
      "execution_count": null,
      "outputs": [
        {
          "output_type": "stream",
          "text": [
            "98407.59675017427\n"
          ],
          "name": "stdout"
        }
      ]
    },
    {
      "cell_type": "code",
      "metadata": {
        "id": "-dS-YmzygfyA",
        "outputId": "6dc246d6-46ab-4506-965b-620a1fb327ea"
      },
      "source": [
        "print(rmse)"
      ],
      "execution_count": null,
      "outputs": [
        {
          "output_type": "stream",
          "text": [
            "313.69985137097893\n"
          ],
          "name": "stdout"
        }
      ]
    },
    {
      "cell_type": "code",
      "metadata": {
        "id": "-M8_lGzPgfyA"
      },
      "source": [
        "knn_r_acc = []"
      ],
      "execution_count": null,
      "outputs": []
    },
    {
      "cell_type": "code",
      "metadata": {
        "collapsed": true,
        "id": "3oncKT7qgfyA",
        "outputId": "307760cf-4f60-4fb7-b40a-e7840f52045e"
      },
      "source": [
        "from sklearn.neighbors import KNeighborsRegressor\n",
        "k_range=range(1,26)\n",
        "for k in k_range:\n",
        "    knn = KNeighborsRegressor(n_neighbors = k )\n",
        "    knn.fit(x_train,y_train)\n",
        "\n",
        "\n",
        "    test_score = knn.score(x_test,y_test)\n",
        "    train_score = knn.score(x_train,y_train)\n",
        "    knn_r_acc.append((i,test_score,train_score))\n",
        "resultDF=pd.DataFrame(knn_r_acc,columns=['k','test score','train score'])\n",
        "print(resultDF)"
      ],
      "execution_count": null,
      "outputs": [
        {
          "output_type": "stream",
          "text": [
            "      k  test score  train score\n",
            "0   648    0.692802     0.999193\n",
            "1   648    0.714036     0.942877\n",
            "2   648    0.761036     0.918876\n",
            "3   648    0.781653     0.888876\n",
            "4   648    0.779769     0.869560\n",
            "5   648    0.787197     0.856821\n",
            "6   648    0.792489     0.848061\n",
            "7   648    0.788805     0.834195\n",
            "8   648    0.789097     0.824224\n",
            "9   648    0.782339     0.816722\n",
            "10  648    0.778799     0.811377\n",
            "11  648    0.774497     0.806516\n",
            "12  648    0.774125     0.800542\n",
            "13  648    0.780738     0.796284\n",
            "14  648    0.774243     0.792056\n",
            "15  648    0.779222     0.792924\n",
            "16  648    0.777858     0.791459\n",
            "17  648    0.775361     0.786837\n",
            "18  648    0.773980     0.784235\n",
            "19  648    0.774855     0.782565\n",
            "20  648    0.774516     0.780456\n",
            "21  648    0.775225     0.777055\n",
            "22  648    0.773306     0.775640\n",
            "23  648    0.770286     0.772902\n",
            "24  648    0.769996     0.767864\n"
          ],
          "name": "stdout"
        }
      ]
    },
    {
      "cell_type": "code",
      "metadata": {
        "id": "wS-32kzOgfyB",
        "outputId": "11efdeb3-7bc3-4e54-ba9a-554778b6b3b3"
      },
      "source": [
        "x_train['MacOS']=x_train['MacOS'].apply(lambda x: x*1.2)"
      ],
      "execution_count": null,
      "outputs": [
        {
          "output_type": "stream",
          "text": [
            "<ipython-input-61-17af4285b69a>:1: SettingWithCopyWarning: \n",
            "A value is trying to be set on a copy of a slice from a DataFrame.\n",
            "Try using .loc[row_indexer,col_indexer] = value instead\n",
            "\n",
            "See the caveats in the documentation: https://pandas.pydata.org/pandas-docs/stable/user_guide/indexing.html#returning-a-view-versus-a-copy\n",
            "  x_train['MacOS']=x_train['MacOS'].apply(lambda x: x*1.2)\n"
          ],
          "name": "stderr"
        }
      ]
    },
    {
      "cell_type": "code",
      "metadata": {
        "scrolled": true,
        "id": "jOhVFPsYgfyC",
        "outputId": "0b560361-f652-44a8-b266-358ff8ad0b9b"
      },
      "source": [
        "len(x_train.columns)"
      ],
      "execution_count": null,
      "outputs": [
        {
          "output_type": "execute_result",
          "data": {
            "text/plain": [
              "28"
            ]
          },
          "metadata": {
            "tags": []
          },
          "execution_count": 84
        }
      ]
    },
    {
      "cell_type": "code",
      "metadata": {
        "collapsed": true,
        "id": "Rn7oDQ2ZgfyC",
        "outputId": "d8efb2aa-1d20-4a22-c610-54b363bc7c72"
      },
      "source": [
        "# print('테스트 데이터의 타입',realTestx.dtypes)\n",
        "# print('훈련 데이터',x_train.dtypes)\n",
        "sc"
      ],
      "execution_count": null,
      "outputs": [
        {
          "output_type": "execute_result",
          "data": {
            "text/plain": [
              "array([[-0.80775148, -0.73779336,  0.4205246 , ...,  4.37909472,\n",
              "        -2.48913724, -0.13715641],\n",
              "       [-0.44809061, -0.73779336,  0.4205246 , ..., -0.2283577 ,\n",
              "         0.40174563, -0.13715641],\n",
              "       [-0.80775148, -0.73779336,  0.4205246 , ..., -0.2283577 ,\n",
              "         0.40174563, -0.13715641],\n",
              "       ...,\n",
              "       [-0.80775148, -0.73779336,  0.4205246 , ..., -0.2283577 ,\n",
              "         0.40174563, -0.13715641],\n",
              "       [-0.08842974, -0.73779336,  0.4205246 , ..., -0.2283577 ,\n",
              "         0.40174563, -0.13715641],\n",
              "       [-0.08842974,  0.0408624 , -3.40147472, ..., -0.2283577 ,\n",
              "         0.40174563, -0.13715641]])"
            ]
          },
          "metadata": {
            "tags": []
          },
          "execution_count": 49
        }
      ]
    },
    {
      "cell_type": "code",
      "metadata": {
        "id": "XIIlhD3agfyC",
        "outputId": "b025a436-6547-44ba-b309-2657c6cf4b84"
      },
      "source": [
        "realTestX = testNew\n",
        "scaler2=MinMaxScaler()\n",
        "rsc = scaler2.fit_transform(realTestX)\n",
        "rsc"
      ],
      "execution_count": null,
      "outputs": [
        {
          "output_type": "execute_result",
          "data": {
            "text/plain": [
              "array([[0.57142857, 0.2       , 0.29824561, ..., 0.        , 1.        ,\n",
              "        0.        ],\n",
              "       [0.21428571, 0.2       , 0.29824561, ..., 0.        , 1.        ,\n",
              "        0.        ],\n",
              "       [0.35714286, 0.2       , 0.70175439, ..., 0.        , 1.        ,\n",
              "        0.        ],\n",
              "       ...,\n",
              "       [0.5       , 1.        , 1.        , ..., 0.        , 1.        ,\n",
              "        0.        ],\n",
              "       [0.35714286, 0.6       , 0.42105263, ..., 0.        , 1.        ,\n",
              "        0.        ],\n",
              "       [0.35714286, 0.8       , 0.70175439, ..., 0.        , 1.        ,\n",
              "        0.        ]])"
            ]
          },
          "metadata": {
            "tags": []
          },
          "execution_count": 67
        }
      ]
    },
    {
      "cell_type": "code",
      "metadata": {
        "id": "01EoBUhRgfyE",
        "outputId": "0b5a8b40-213f-4ce7-98ad-b5feedff41f0"
      },
      "source": [
        "rsc.sh"
      ],
      "execution_count": null,
      "outputs": [
        {
          "output_type": "execute_result",
          "data": {
            "text/plain": [
              "(261, 28)"
            ]
          },
          "metadata": {
            "tags": []
          },
          "execution_count": 185
        }
      ]
    },
    {
      "cell_type": "code",
      "metadata": {
        "id": "-SPflW9NgfyE"
      },
      "source": [
        "# scaler2=StandardScaler()\n",
        "# rsc = scaler2.fit_transform(realTestx)\n",
        "\n",
        "#실제 훈련\n",
        "# lr2 = LinearRegression()\n",
        "# lr2.fit(X,y_train)\n",
        "# lr2.score(x_train,y_train)\n",
        "realTestx = pd.DataFrame(rsc,columns=realTestX.columns)"
      ],
      "execution_count": null,
      "outputs": []
    },
    {
      "cell_type": "markdown",
      "metadata": {
        "id": "64z0VUr_gfyE"
      },
      "source": [
        "### GPU 처리"
      ]
    },
    {
      "cell_type": "code",
      "metadata": {
        "scrolled": true,
        "id": "tjgWUKfbgfyE",
        "outputId": "44752be1-438e-477a-c189-5e2a9a438a2f"
      },
      "source": [
        "x_train.isnull().sum()"
      ],
      "execution_count": null,
      "outputs": [
        {
          "output_type": "execute_result",
          "data": {
            "text/plain": [
              "Company             0\n",
              "TypeName            0\n",
              "Inches              0\n",
              "ScreenResolution    0\n",
              "Ram                 0\n",
              "Memory              0\n",
              "Gpu                 0\n",
              "Weight              0\n",
              "GHz                 0\n",
              "Cpu_Xeon            0\n",
              "Cpu_CoreM           0\n",
              "Cpu_Pentium2        0\n",
              "Cpu_Pentium4        0\n",
              "Cpu_Atom            0\n",
              "Cpu_Celeron2        0\n",
              "Cpu_Celeron4        0\n",
              "Cpu_i3              0\n",
              "Cpu_i5              0\n",
              "Cpu_i7              0\n",
              "Cpu_AMD_A           0\n",
              "Cpu_AMD_Ryzen       0\n",
              "Cpu_AMD_FX          0\n",
              "Cpu_AMD_E           0\n",
              "Chrome OS           0\n",
              "Linux               0\n",
              "No OS               0\n",
              "Windows             0\n",
              "MacOS               0\n",
              "dtype: int64"
            ]
          },
          "metadata": {
            "tags": []
          },
          "execution_count": 208
        }
      ]
    },
    {
      "cell_type": "code",
      "metadata": {
        "id": "CxBjk9Z4gfyF",
        "outputId": "b2d7127c-a81c-41a9-c3f7-740b69c2da7c"
      },
      "source": [
        "np.any(np.isnan(tenp))"
      ],
      "execution_count": null,
      "outputs": [
        {
          "output_type": "execute_result",
          "data": {
            "text/plain": [
              "False"
            ]
          },
          "metadata": {
            "tags": []
          },
          "execution_count": 189
        }
      ]
    },
    {
      "cell_type": "code",
      "metadata": {
        "id": "gRMTRF7ugfyF",
        "outputId": "a9dae812-cb0a-4e50-ab70-d2d7177492fa"
      },
      "source": [
        "realTestX['Gpu']"
      ],
      "execution_count": null,
      "outputs": [
        {
          "output_type": "execute_result",
          "data": {
            "text/plain": [
              "0      52.000000\n",
              "1      52.000000\n",
              "2      46.581028\n",
              "3      50.000000\n",
              "4      48.000000\n",
              "         ...    \n",
              "256    52.000000\n",
              "257    39.000000\n",
              "258    83.000000\n",
              "259    61.000000\n",
              "260    63.000000\n",
              "Name: Gpu, Length: 261, dtype: float64"
            ]
          },
          "metadata": {
            "tags": []
          },
          "execution_count": 190
        }
      ]
    },
    {
      "cell_type": "code",
      "metadata": {
        "id": "LWy_wzXRgfyG",
        "outputId": "2fdd2d24-12f3-40ae-e9ad-cedda8fecfa0"
      },
      "source": [
        "import seaborn as sns\n",
        "gpux=realTestX.Gpu.values\n",
        "sns.distplot(gpux, kde=True, rug=True)\n",
        "plt.title(\"Iris 데이터 중, 꽃잎의 길이에 대한 Rug Plot \")\n",
        "plt.show()"
      ],
      "execution_count": null,
      "outputs": [
        {
          "output_type": "stream",
          "text": [
            "C:\\Users\\user\\miniconda3\\lib\\site-packages\\seaborn\\distributions.py:2551: FutureWarning: `distplot` is a deprecated function and will be removed in a future version. Please adapt your code to use either `displot` (a figure-level function with similar flexibility) or `histplot` (an axes-level function for histograms).\n",
            "  warnings.warn(msg, FutureWarning)\n",
            "C:\\Users\\user\\miniconda3\\lib\\site-packages\\seaborn\\distributions.py:2055: FutureWarning: The `axis` variable is no longer used and will be removed. Instead, assign variables directly to `x` or `y`.\n",
            "  warnings.warn(msg, FutureWarning)\n",
            "C:\\Users\\user\\miniconda3\\lib\\site-packages\\matplotlib\\backends\\backend_agg.py:238: RuntimeWarning: Glyph 45936 missing from current font.\n",
            "  font.set_text(s, 0.0, flags=flags)\n",
            "C:\\Users\\user\\miniconda3\\lib\\site-packages\\matplotlib\\backends\\backend_agg.py:238: RuntimeWarning: Glyph 51060 missing from current font.\n",
            "  font.set_text(s, 0.0, flags=flags)\n",
            "C:\\Users\\user\\miniconda3\\lib\\site-packages\\matplotlib\\backends\\backend_agg.py:238: RuntimeWarning: Glyph 53552 missing from current font.\n",
            "  font.set_text(s, 0.0, flags=flags)\n",
            "C:\\Users\\user\\miniconda3\\lib\\site-packages\\matplotlib\\backends\\backend_agg.py:238: RuntimeWarning: Glyph 51473 missing from current font.\n",
            "  font.set_text(s, 0.0, flags=flags)\n",
            "C:\\Users\\user\\miniconda3\\lib\\site-packages\\matplotlib\\backends\\backend_agg.py:238: RuntimeWarning: Glyph 44867 missing from current font.\n",
            "  font.set_text(s, 0.0, flags=flags)\n",
            "C:\\Users\\user\\miniconda3\\lib\\site-packages\\matplotlib\\backends\\backend_agg.py:238: RuntimeWarning: Glyph 51086 missing from current font.\n",
            "  font.set_text(s, 0.0, flags=flags)\n",
            "C:\\Users\\user\\miniconda3\\lib\\site-packages\\matplotlib\\backends\\backend_agg.py:238: RuntimeWarning: Glyph 51032 missing from current font.\n",
            "  font.set_text(s, 0.0, flags=flags)\n",
            "C:\\Users\\user\\miniconda3\\lib\\site-packages\\matplotlib\\backends\\backend_agg.py:238: RuntimeWarning: Glyph 44600 missing from current font.\n",
            "  font.set_text(s, 0.0, flags=flags)\n",
            "C:\\Users\\user\\miniconda3\\lib\\site-packages\\matplotlib\\backends\\backend_agg.py:238: RuntimeWarning: Glyph 50640 missing from current font.\n",
            "  font.set_text(s, 0.0, flags=flags)\n",
            "C:\\Users\\user\\miniconda3\\lib\\site-packages\\matplotlib\\backends\\backend_agg.py:238: RuntimeWarning: Glyph 45824 missing from current font.\n",
            "  font.set_text(s, 0.0, flags=flags)\n",
            "C:\\Users\\user\\miniconda3\\lib\\site-packages\\matplotlib\\backends\\backend_agg.py:238: RuntimeWarning: Glyph 54620 missing from current font.\n",
            "  font.set_text(s, 0.0, flags=flags)\n",
            "C:\\Users\\user\\miniconda3\\lib\\site-packages\\matplotlib\\backends\\backend_agg.py:201: RuntimeWarning: Glyph 45936 missing from current font.\n",
            "  font.set_text(s, 0, flags=flags)\n",
            "C:\\Users\\user\\miniconda3\\lib\\site-packages\\matplotlib\\backends\\backend_agg.py:201: RuntimeWarning: Glyph 51060 missing from current font.\n",
            "  font.set_text(s, 0, flags=flags)\n",
            "C:\\Users\\user\\miniconda3\\lib\\site-packages\\matplotlib\\backends\\backend_agg.py:201: RuntimeWarning: Glyph 53552 missing from current font.\n",
            "  font.set_text(s, 0, flags=flags)\n",
            "C:\\Users\\user\\miniconda3\\lib\\site-packages\\matplotlib\\backends\\backend_agg.py:201: RuntimeWarning: Glyph 51473 missing from current font.\n",
            "  font.set_text(s, 0, flags=flags)\n",
            "C:\\Users\\user\\miniconda3\\lib\\site-packages\\matplotlib\\backends\\backend_agg.py:201: RuntimeWarning: Glyph 44867 missing from current font.\n",
            "  font.set_text(s, 0, flags=flags)\n",
            "C:\\Users\\user\\miniconda3\\lib\\site-packages\\matplotlib\\backends\\backend_agg.py:201: RuntimeWarning: Glyph 51086 missing from current font.\n",
            "  font.set_text(s, 0, flags=flags)\n",
            "C:\\Users\\user\\miniconda3\\lib\\site-packages\\matplotlib\\backends\\backend_agg.py:201: RuntimeWarning: Glyph 51032 missing from current font.\n",
            "  font.set_text(s, 0, flags=flags)\n",
            "C:\\Users\\user\\miniconda3\\lib\\site-packages\\matplotlib\\backends\\backend_agg.py:201: RuntimeWarning: Glyph 44600 missing from current font.\n",
            "  font.set_text(s, 0, flags=flags)\n",
            "C:\\Users\\user\\miniconda3\\lib\\site-packages\\matplotlib\\backends\\backend_agg.py:201: RuntimeWarning: Glyph 50640 missing from current font.\n",
            "  font.set_text(s, 0, flags=flags)\n",
            "C:\\Users\\user\\miniconda3\\lib\\site-packages\\matplotlib\\backends\\backend_agg.py:201: RuntimeWarning: Glyph 45824 missing from current font.\n",
            "  font.set_text(s, 0, flags=flags)\n",
            "C:\\Users\\user\\miniconda3\\lib\\site-packages\\matplotlib\\backends\\backend_agg.py:201: RuntimeWarning: Glyph 54620 missing from current font.\n",
            "  font.set_text(s, 0, flags=flags)\n"
          ],
          "name": "stderr"
        },
        {
          "output_type": "display_data",
          "data": {
            "image/png": "[encoded data removed]",
            "text/plain": [
              "<Figure size 432x288 with 1 Axes>"
            ]
          },
          "metadata": {
            "tags": [],
            "needs_background": "light"
          }
        }
      ]
    },
    {
      "cell_type": "markdown",
      "metadata": {
        "id": "pF8-90hAgfyH"
      },
      "source": [
        "## 위 시각화의 결론은 gpu칼럼 빈 값 8개는 그냥 평균 값 50언저리로 채운다"
      ]
    },
    {
      "cell_type": "code",
      "metadata": {
        "id": "liTBkmu3gfyH",
        "outputId": "3112e47d-f025-4819-b209-451273de73eb"
      },
      "source": [
        "realTestX['Gpu'].mean()"
      ],
      "execution_count": null,
      "outputs": [
        {
          "output_type": "execute_result",
          "data": {
            "text/plain": [
              "46.581027667984195"
            ]
          },
          "metadata": {
            "tags": []
          },
          "execution_count": 192
        }
      ]
    },
    {
      "cell_type": "code",
      "metadata": {
        "id": "-HT4JgtggfyH"
      },
      "source": [
        "realTestx['Gpu'].fillna( realTestx['Gpu'].mean(), inplace=True)"
      ],
      "execution_count": null,
      "outputs": []
    },
    {
      "cell_type": "markdown",
      "metadata": {
        "id": "Uw2eO5hXgfyH"
      },
      "source": [
        "### screen Resolution 처리"
      ]
    },
    {
      "cell_type": "code",
      "metadata": {
        "id": "5DlgQyX8gfyI",
        "outputId": "a9457890-2fcc-4eb0-cb79-0b62e317e18a"
      },
      "source": [
        "realTestX['ScreenResolution'].mode()"
      ],
      "execution_count": null,
      "outputs": [
        {
          "output_type": "execute_result",
          "data": {
            "text/plain": [
              "0    12.0\n",
              "dtype: float64"
            ]
          },
          "metadata": {
            "tags": []
          },
          "execution_count": 194
        }
      ]
    },
    {
      "cell_type": "code",
      "metadata": {
        "id": "WwQXoM1YgfyI",
        "outputId": "723fe41b-89f3-45e1-87d0-b4c9747c41f5"
      },
      "source": [
        " realTestX['Memory'].mode()[0]"
      ],
      "execution_count": null,
      "outputs": [
        {
          "output_type": "execute_result",
          "data": {
            "text/plain": [
              "19.0"
            ]
          },
          "metadata": {
            "tags": []
          },
          "execution_count": 195
        }
      ]
    },
    {
      "cell_type": "code",
      "metadata": {
        "id": "bXMU6cNvgfyI",
        "outputId": "d1fef6f9-de50-4fb8-f09b-d22a4e15d0cb"
      },
      "source": [
        "realTestX['ScreenResolution']"
      ],
      "execution_count": null,
      "outputs": [
        {
          "output_type": "execute_result",
          "data": {
            "text/plain": [
              "0      17.0\n",
              "1      17.0\n",
              "2      12.0\n",
              "3      17.0\n",
              "4       3.0\n",
              "       ... \n",
              "256    13.0\n",
              "257    12.0\n",
              "258    12.0\n",
              "259    12.0\n",
              "260    17.0\n",
              "Name: ScreenResolution, Length: 261, dtype: float64"
            ]
          },
          "metadata": {
            "tags": []
          },
          "execution_count": 196
        }
      ]
    },
    {
      "cell_type": "code",
      "metadata": {
        "id": "WYXp8YI7gfyJ"
      },
      "source": [
        "realTestx['ScreenResolution'].fillna(realTestx['ScreenResolution'].mode()[0], inplace=True)"
      ],
      "execution_count": null,
      "outputs": []
    },
    {
      "cell_type": "code",
      "metadata": {
        "id": "oQ4QINwMgfyJ"
      },
      "source": [
        "realTestx['Memory'].fillna( realTestx['Memory'].mode()[0], inplace=True)"
      ],
      "execution_count": null,
      "outputs": []
    },
    {
      "cell_type": "code",
      "metadata": {
        "id": "wSiSgwIIgfyJ"
      },
      "source": [
        "# tenp=realTestx.dropna(axis = 0, how ='any')\n",
        "tenp=realTestx"
      ],
      "execution_count": null,
      "outputs": []
    },
    {
      "cell_type": "markdown",
      "metadata": {
        "id": "XGg1l1MEgfyK"
      },
      "source": [
        "## test데이터의 screen Resolution, Memory, GPU 빈 값 채우기 위해서 시각화"
      ]
    },
    {
      "cell_type": "code",
      "metadata": {
        "id": "vYPk9ygMgfyK",
        "outputId": "a2832f84-efd8-4f58-81f5-778057b9052a"
      },
      "source": [
        "tenp"
      ],
      "execution_count": null,
      "outputs": [
        {
          "output_type": "execute_result",
          "data": {
            "text/html": [
              "<div>\n",
              "<style scoped>\n",
              "    .dataframe tbody tr th:only-of-type {\n",
              "        vertical-align: middle;\n",
              "    }\n",
              "\n",
              "    .dataframe tbody tr th {\n",
              "        vertical-align: top;\n",
              "    }\n",
              "\n",
              "    .dataframe thead th {\n",
              "        text-align: right;\n",
              "    }\n",
              "</style>\n",
              "<table border=\"1\" class=\"dataframe\">\n",
              "  <thead>\n",
              "    <tr style=\"text-align: right;\">\n",
              "      <th></th>\n",
              "      <th>Company</th>\n",
              "      <th>TypeName</th>\n",
              "      <th>Inches</th>\n",
              "      <th>ScreenResolution</th>\n",
              "      <th>Ram</th>\n",
              "      <th>Memory</th>\n",
              "      <th>Gpu</th>\n",
              "      <th>Weight</th>\n",
              "      <th>GHz</th>\n",
              "      <th>Cpu_CoreM</th>\n",
              "      <th>...</th>\n",
              "      <th>Cpu_i7</th>\n",
              "      <th>Cpu_AMD_A</th>\n",
              "      <th>Cpu_AMD_Ryzen</th>\n",
              "      <th>Cpu_AMD_FX</th>\n",
              "      <th>Cpu_AMD_E</th>\n",
              "      <th>Chrome OS</th>\n",
              "      <th>Linux</th>\n",
              "      <th>No OS</th>\n",
              "      <th>Windows</th>\n",
              "      <th>MacOS</th>\n",
              "    </tr>\n",
              "  </thead>\n",
              "  <tbody>\n",
              "    <tr>\n",
              "      <th>0</th>\n",
              "      <td>0.571429</td>\n",
              "      <td>0.2</td>\n",
              "      <td>0.298246</td>\n",
              "      <td>0.485714</td>\n",
              "      <td>0.200000</td>\n",
              "      <td>0.56250</td>\n",
              "      <td>0.514851</td>\n",
              "      <td>0.063325</td>\n",
              "      <td>0.592593</td>\n",
              "      <td>0.0</td>\n",
              "      <td>...</td>\n",
              "      <td>0.000000</td>\n",
              "      <td>0.000000</td>\n",
              "      <td>0.0</td>\n",
              "      <td>0.0</td>\n",
              "      <td>0.0</td>\n",
              "      <td>0.0</td>\n",
              "      <td>0.0</td>\n",
              "      <td>0.0</td>\n",
              "      <td>1.0</td>\n",
              "      <td>0.0</td>\n",
              "    </tr>\n",
              "    <tr>\n",
              "      <th>1</th>\n",
              "      <td>0.214286</td>\n",
              "      <td>0.2</td>\n",
              "      <td>0.298246</td>\n",
              "      <td>0.485714</td>\n",
              "      <td>0.200000</td>\n",
              "      <td>0.56250</td>\n",
              "      <td>0.514851</td>\n",
              "      <td>0.079156</td>\n",
              "      <td>0.592593</td>\n",
              "      <td>0.0</td>\n",
              "      <td>...</td>\n",
              "      <td>0.000000</td>\n",
              "      <td>0.000000</td>\n",
              "      <td>0.0</td>\n",
              "      <td>0.0</td>\n",
              "      <td>0.0</td>\n",
              "      <td>0.0</td>\n",
              "      <td>0.0</td>\n",
              "      <td>0.0</td>\n",
              "      <td>1.0</td>\n",
              "      <td>0.0</td>\n",
              "    </tr>\n",
              "    <tr>\n",
              "      <th>2</th>\n",
              "      <td>0.357143</td>\n",
              "      <td>0.2</td>\n",
              "      <td>0.701754</td>\n",
              "      <td>0.342857</td>\n",
              "      <td>0.133333</td>\n",
              "      <td>0.28125</td>\n",
              "      <td>0.461198</td>\n",
              "      <td>0.419525</td>\n",
              "      <td>0.555556</td>\n",
              "      <td>0.0</td>\n",
              "      <td>...</td>\n",
              "      <td>0.000000</td>\n",
              "      <td>0.844897</td>\n",
              "      <td>0.0</td>\n",
              "      <td>0.0</td>\n",
              "      <td>0.0</td>\n",
              "      <td>0.0</td>\n",
              "      <td>0.0</td>\n",
              "      <td>0.0</td>\n",
              "      <td>1.0</td>\n",
              "      <td>0.0</td>\n",
              "    </tr>\n",
              "    <tr>\n",
              "      <th>3</th>\n",
              "      <td>0.357143</td>\n",
              "      <td>0.2</td>\n",
              "      <td>0.701754</td>\n",
              "      <td>0.485714</td>\n",
              "      <td>0.200000</td>\n",
              "      <td>0.28125</td>\n",
              "      <td>0.495050</td>\n",
              "      <td>0.472296</td>\n",
              "      <td>0.629630</td>\n",
              "      <td>0.0</td>\n",
              "      <td>...</td>\n",
              "      <td>0.783626</td>\n",
              "      <td>0.000000</td>\n",
              "      <td>0.0</td>\n",
              "      <td>0.0</td>\n",
              "      <td>0.0</td>\n",
              "      <td>0.0</td>\n",
              "      <td>0.0</td>\n",
              "      <td>0.0</td>\n",
              "      <td>1.0</td>\n",
              "      <td>0.0</td>\n",
              "    </tr>\n",
              "    <tr>\n",
              "      <th>4</th>\n",
              "      <td>0.214286</td>\n",
              "      <td>0.6</td>\n",
              "      <td>0.157895</td>\n",
              "      <td>0.085714</td>\n",
              "      <td>0.066667</td>\n",
              "      <td>0.56250</td>\n",
              "      <td>0.475248</td>\n",
              "      <td>0.118734</td>\n",
              "      <td>0.518519</td>\n",
              "      <td>0.0</td>\n",
              "      <td>...</td>\n",
              "      <td>0.000000</td>\n",
              "      <td>0.000000</td>\n",
              "      <td>0.0</td>\n",
              "      <td>0.0</td>\n",
              "      <td>0.0</td>\n",
              "      <td>0.0</td>\n",
              "      <td>0.0</td>\n",
              "      <td>0.0</td>\n",
              "      <td>1.0</td>\n",
              "      <td>0.0</td>\n",
              "    </tr>\n",
              "    <tr>\n",
              "      <th>...</th>\n",
              "      <td>...</td>\n",
              "      <td>...</td>\n",
              "      <td>...</td>\n",
              "      <td>...</td>\n",
              "      <td>...</td>\n",
              "      <td>...</td>\n",
              "      <td>...</td>\n",
              "      <td>...</td>\n",
              "      <td>...</td>\n",
              "      <td>...</td>\n",
              "      <td>...</td>\n",
              "      <td>...</td>\n",
              "      <td>...</td>\n",
              "      <td>...</td>\n",
              "      <td>...</td>\n",
              "      <td>...</td>\n",
              "      <td>...</td>\n",
              "      <td>...</td>\n",
              "      <td>...</td>\n",
              "      <td>...</td>\n",
              "      <td>...</td>\n",
              "    </tr>\n",
              "    <tr>\n",
              "      <th>256</th>\n",
              "      <td>0.500000</td>\n",
              "      <td>0.4</td>\n",
              "      <td>0.298246</td>\n",
              "      <td>0.371429</td>\n",
              "      <td>0.333333</td>\n",
              "      <td>0.56250</td>\n",
              "      <td>0.514851</td>\n",
              "      <td>0.208443</td>\n",
              "      <td>0.666667</td>\n",
              "      <td>0.0</td>\n",
              "      <td>...</td>\n",
              "      <td>0.877193</td>\n",
              "      <td>0.000000</td>\n",
              "      <td>0.0</td>\n",
              "      <td>0.0</td>\n",
              "      <td>0.0</td>\n",
              "      <td>0.0</td>\n",
              "      <td>0.0</td>\n",
              "      <td>0.0</td>\n",
              "      <td>1.0</td>\n",
              "      <td>0.0</td>\n",
              "    </tr>\n",
              "    <tr>\n",
              "      <th>257</th>\n",
              "      <td>0.214286</td>\n",
              "      <td>0.2</td>\n",
              "      <td>1.000000</td>\n",
              "      <td>0.342857</td>\n",
              "      <td>0.200000</td>\n",
              "      <td>0.56250</td>\n",
              "      <td>0.386139</td>\n",
              "      <td>0.445910</td>\n",
              "      <td>0.333333</td>\n",
              "      <td>0.0</td>\n",
              "      <td>...</td>\n",
              "      <td>1.000000</td>\n",
              "      <td>0.000000</td>\n",
              "      <td>0.0</td>\n",
              "      <td>0.0</td>\n",
              "      <td>0.0</td>\n",
              "      <td>0.0</td>\n",
              "      <td>0.0</td>\n",
              "      <td>0.0</td>\n",
              "      <td>1.0</td>\n",
              "      <td>0.0</td>\n",
              "    </tr>\n",
              "    <tr>\n",
              "      <th>258</th>\n",
              "      <td>0.500000</td>\n",
              "      <td>1.0</td>\n",
              "      <td>1.000000</td>\n",
              "      <td>0.342857</td>\n",
              "      <td>0.466667</td>\n",
              "      <td>0.56250</td>\n",
              "      <td>0.821782</td>\n",
              "      <td>0.688654</td>\n",
              "      <td>0.740741</td>\n",
              "      <td>0.0</td>\n",
              "      <td>...</td>\n",
              "      <td>0.914620</td>\n",
              "      <td>0.000000</td>\n",
              "      <td>0.0</td>\n",
              "      <td>0.0</td>\n",
              "      <td>0.0</td>\n",
              "      <td>0.0</td>\n",
              "      <td>0.0</td>\n",
              "      <td>0.0</td>\n",
              "      <td>1.0</td>\n",
              "      <td>0.0</td>\n",
              "    </tr>\n",
              "    <tr>\n",
              "      <th>259</th>\n",
              "      <td>0.357143</td>\n",
              "      <td>0.6</td>\n",
              "      <td>0.421053</td>\n",
              "      <td>0.342857</td>\n",
              "      <td>0.200000</td>\n",
              "      <td>0.87500</td>\n",
              "      <td>0.603960</td>\n",
              "      <td>0.234828</td>\n",
              "      <td>0.703704</td>\n",
              "      <td>0.0</td>\n",
              "      <td>...</td>\n",
              "      <td>0.900585</td>\n",
              "      <td>0.000000</td>\n",
              "      <td>0.0</td>\n",
              "      <td>0.0</td>\n",
              "      <td>0.0</td>\n",
              "      <td>0.0</td>\n",
              "      <td>0.0</td>\n",
              "      <td>0.0</td>\n",
              "      <td>1.0</td>\n",
              "      <td>0.0</td>\n",
              "    </tr>\n",
              "    <tr>\n",
              "      <th>260</th>\n",
              "      <td>0.357143</td>\n",
              "      <td>0.8</td>\n",
              "      <td>0.701754</td>\n",
              "      <td>0.485714</td>\n",
              "      <td>0.200000</td>\n",
              "      <td>0.59375</td>\n",
              "      <td>0.623762</td>\n",
              "      <td>0.445910</td>\n",
              "      <td>0.703704</td>\n",
              "      <td>0.0</td>\n",
              "      <td>...</td>\n",
              "      <td>0.900585</td>\n",
              "      <td>0.000000</td>\n",
              "      <td>0.0</td>\n",
              "      <td>0.0</td>\n",
              "      <td>0.0</td>\n",
              "      <td>0.0</td>\n",
              "      <td>0.0</td>\n",
              "      <td>0.0</td>\n",
              "      <td>1.0</td>\n",
              "      <td>0.0</td>\n",
              "    </tr>\n",
              "  </tbody>\n",
              "</table>\n",
              "<p>261 rows × 27 columns</p>\n",
              "</div>"
            ],
            "text/plain": [
              "      Company  TypeName    Inches  ScreenResolution       Ram   Memory  \\\n",
              "0    0.571429       0.2  0.298246          0.485714  0.200000  0.56250   \n",
              "1    0.214286       0.2  0.298246          0.485714  0.200000  0.56250   \n",
              "2    0.357143       0.2  0.701754          0.342857  0.133333  0.28125   \n",
              "3    0.357143       0.2  0.701754          0.485714  0.200000  0.28125   \n",
              "4    0.214286       0.6  0.157895          0.085714  0.066667  0.56250   \n",
              "..        ...       ...       ...               ...       ...      ...   \n",
              "256  0.500000       0.4  0.298246          0.371429  0.333333  0.56250   \n",
              "257  0.214286       0.2  1.000000          0.342857  0.200000  0.56250   \n",
              "258  0.500000       1.0  1.000000          0.342857  0.466667  0.56250   \n",
              "259  0.357143       0.6  0.421053          0.342857  0.200000  0.87500   \n",
              "260  0.357143       0.8  0.701754          0.485714  0.200000  0.59375   \n",
              "\n",
              "          Gpu    Weight       GHz  Cpu_CoreM  ...    Cpu_i7  Cpu_AMD_A  \\\n",
              "0    0.514851  0.063325  0.592593        0.0  ...  0.000000   0.000000   \n",
              "1    0.514851  0.079156  0.592593        0.0  ...  0.000000   0.000000   \n",
              "2    0.461198  0.419525  0.555556        0.0  ...  0.000000   0.844897   \n",
              "3    0.495050  0.472296  0.629630        0.0  ...  0.783626   0.000000   \n",
              "4    0.475248  0.118734  0.518519        0.0  ...  0.000000   0.000000   \n",
              "..        ...       ...       ...        ...  ...       ...        ...   \n",
              "256  0.514851  0.208443  0.666667        0.0  ...  0.877193   0.000000   \n",
              "257  0.386139  0.445910  0.333333        0.0  ...  1.000000   0.000000   \n",
              "258  0.821782  0.688654  0.740741        0.0  ...  0.914620   0.000000   \n",
              "259  0.603960  0.234828  0.703704        0.0  ...  0.900585   0.000000   \n",
              "260  0.623762  0.445910  0.703704        0.0  ...  0.900585   0.000000   \n",
              "\n",
              "     Cpu_AMD_Ryzen  Cpu_AMD_FX  Cpu_AMD_E  Chrome OS  Linux  No OS  Windows  \\\n",
              "0              0.0         0.0        0.0        0.0    0.0    0.0      1.0   \n",
              "1              0.0         0.0        0.0        0.0    0.0    0.0      1.0   \n",
              "2              0.0         0.0        0.0        0.0    0.0    0.0      1.0   \n",
              "3              0.0         0.0        0.0        0.0    0.0    0.0      1.0   \n",
              "4              0.0         0.0        0.0        0.0    0.0    0.0      1.0   \n",
              "..             ...         ...        ...        ...    ...    ...      ...   \n",
              "256            0.0         0.0        0.0        0.0    0.0    0.0      1.0   \n",
              "257            0.0         0.0        0.0        0.0    0.0    0.0      1.0   \n",
              "258            0.0         0.0        0.0        0.0    0.0    0.0      1.0   \n",
              "259            0.0         0.0        0.0        0.0    0.0    0.0      1.0   \n",
              "260            0.0         0.0        0.0        0.0    0.0    0.0      1.0   \n",
              "\n",
              "     MacOS  \n",
              "0      0.0  \n",
              "1      0.0  \n",
              "2      0.0  \n",
              "3      0.0  \n",
              "4      0.0  \n",
              "..     ...  \n",
              "256    0.0  \n",
              "257    0.0  \n",
              "258    0.0  \n",
              "259    0.0  \n",
              "260    0.0  \n",
              "\n",
              "[261 rows x 27 columns]"
            ]
          },
          "metadata": {
            "tags": []
          },
          "execution_count": 103
        }
      ]
    },
    {
      "cell_type": "code",
      "metadata": {
        "id": "hVuedFrLgfyK"
      },
      "source": [
        "from sklearn.linear_model import Lasso\n",
        "lassoModel=Lasso(alpha=0.1)\n",
        "LS=  lassoModel. fit(X,y)\n",
        "# LS.predict(tenp)\n",
        "y_pred_submit = LS.predict(tenp)"
      ],
      "execution_count": null,
      "outputs": []
    },
    {
      "cell_type": "code",
      "metadata": {
        "scrolled": true,
        "id": "uG1IInLigfyL",
        "outputId": "423726c9-a876-4015-ae6b-265b05097e8e"
      },
      "source": [
        "y_pred_submit"
      ],
      "execution_count": null,
      "outputs": [
        {
          "output_type": "execute_result",
          "data": {
            "text/plain": [
              "array([1627.66096928, 1589.92629573,  907.87295555, 1390.81883645,\n",
              "       1111.5662865 , 1395.18163812,  939.54582039,  345.91886749,\n",
              "       1598.79544369,  416.37400724, 2584.4747809 , 1134.03501256,\n",
              "       1984.79066429,  656.39963987, 2466.67169322, 1449.57541875,\n",
              "       1616.40999871, 1408.83240099, 1459.30013799, 2270.4560239 ,\n",
              "       2562.28934703,  536.3623215 , 1711.26404024,  775.73079524,\n",
              "       1398.05703526, 1514.75418257,  746.61822944,  732.49660779,\n",
              "       1640.43852442, 1409.72426411,  771.53057818, 1689.01829377,\n",
              "       1765.33689739, 1311.43721236, 1497.75920826,  846.21270104,\n",
              "        962.1782461 ,  919.19625661, 1620.42929422,  169.85082174,\n",
              "       2144.9085291 , 1058.01207351, 1021.64144955, 2579.05107061,\n",
              "        670.889579  , 1438.56436553, 2415.4772877 ,  244.79013376,\n",
              "       1405.237647  , 1664.57481171, 1618.14991837,  851.3012191 ,\n",
              "        965.74474801,  973.2396359 , 1103.67281884, 1790.35913902,\n",
              "        244.79013376, 1528.24646355, 1313.70263334, 1390.81883645,\n",
              "       1845.5092266 , 1219.47609108,  556.10721055,  991.61686432,\n",
              "        274.0326509 , 2461.38798106,  745.46988207, 1717.847964  ,\n",
              "       1488.77990541, 3780.64201137, 4120.49912813, 1213.60137947,\n",
              "        461.08798166, 1206.22061141,  418.53995963,  512.65673058,\n",
              "       1340.97000859, 2196.22773477, 1413.22691377, 1592.30389822,\n",
              "       1366.04561593, 1193.23727581,  838.19860638, 1134.22710586,\n",
              "        340.15850425, 2403.39881184,  641.08623898, 2633.41549324,\n",
              "       1642.37933659, 1278.43040238, 1856.39653178, 3784.0450464 ,\n",
              "       1409.96763111, 1036.16036713, 1648.94974601,  376.14391674,\n",
              "       1498.11756888,  993.55025045,  901.7013969 , 1401.27784035,\n",
              "        254.02088791,  762.85226533, 1030.63386839, 2068.62851823,\n",
              "       1358.05726103,  656.39963987, 1649.58616144,  654.35225877,\n",
              "       1623.10803792,  635.63402153, 2502.42921273, 1551.88853537,\n",
              "       1527.71498355, 2828.12077608,  344.19899002, 2598.8034163 ,\n",
              "       1568.56704605, 1557.97937684, 1471.03928319,  897.71417221,\n",
              "       4587.55229449, 1339.34130937, 1030.07568308, 1950.64148176,\n",
              "       1490.9644212 ,  451.6057867 , 1537.5558508 , 1384.55410296,\n",
              "       2330.52255944, 1023.64846067, 1789.4596977 ,  771.53057818,\n",
              "       1600.20651612, 1514.46675651, 1537.25474907,  116.7862988 ,\n",
              "       2823.04077791,  457.27465426, 1670.49484183,  758.95049825,\n",
              "        570.76219263, 1324.54523497, 1814.16233871,  932.08106978,\n",
              "       1396.53506225, 1920.5020156 , 2397.11291023,  442.71908303,\n",
              "        393.14305579,  837.5680049 , 2816.4872147 ,  760.99938086,\n",
              "        117.07331578, 2325.59503969, 1418.12422722, 2023.08435086,\n",
              "       1514.46675651, 1403.23202633, 1568.52690561,  515.66860667,\n",
              "       1545.03677261,  904.37356297, 1148.9141267 , 1340.49151278,\n",
              "       4633.09070768, 1568.55023801, 1728.62586486,  708.06719782,\n",
              "        721.04976993,  661.0670652 ,  523.77059927, 2451.09118263,\n",
              "       1511.58424011, 1600.79220607, 1200.62609265,  356.86701872,\n",
              "        487.21218995,  676.22323876, 2336.26638674, 1549.99371574,\n",
              "        912.3527733 , 1203.30261537,  466.05646363, 1364.72885084,\n",
              "        705.23936811,  597.25300034,  978.63082593, 1572.02422354,\n",
              "       2343.18501528,  750.99972819, 1483.83179662,  199.56964096,\n",
              "       1926.63032125, 1046.18194339, 1422.69694431,  776.78097537,\n",
              "        352.3202019 , 1053.60835318, 1232.05352286, 2387.86077198,\n",
              "       1000.55413761,  696.22597676, 1040.92049502, 1091.83517965,\n",
              "       1401.45276852,  575.8791975 , 1216.40729194, 2332.45873766,\n",
              "        662.37072007,  747.37263421, 1083.03216825, 2381.44340763,\n",
              "       1645.04432988,  621.296446  ,  495.62805424, 1436.18261419,\n",
              "       1684.55039885, 1727.97639883, 1355.30285691,  675.64286328,\n",
              "       2768.55337678, 1554.36849913, 1767.48379823,  834.07911442,\n",
              "       1325.0564837 , 1642.80261264, 1068.1284474 ,  493.86138143,\n",
              "       1449.16668901,  473.05523674, 2354.41876975, 1728.62586486,\n",
              "       1405.237647  , 1430.24357047, 1074.71413252, 1454.6854815 ,\n",
              "        866.70996788,  830.62916477, 2196.71251056,  722.39930676,\n",
              "       1754.75281468, 2731.31015854, 2446.40140362, 2604.13013534,\n",
              "       1803.30235302,  470.93746905, 1227.66633561,  340.9794133 ,\n",
              "       1446.56640208,  458.31031329,  417.76484304, 2816.61865632,\n",
              "       1938.4667672 , 1539.55110414,  287.66856999, 2719.30402856,\n",
              "       1967.53983251, 1003.40387105, 2479.55993013, 1904.10125714,\n",
              "       1794.59285428])"
            ]
          },
          "metadata": {
            "tags": []
          },
          "execution_count": 70
        }
      ]
    },
    {
      "cell_type": "code",
      "metadata": {
        "scrolled": true,
        "id": "csx2H4ZsgfyN"
      },
      "source": [
        "submitDF= pd.DataFrame(y_pred_submit,columns=['price'])"
      ],
      "execution_count": null,
      "outputs": []
    },
    {
      "cell_type": "code",
      "metadata": {
        "id": "KnpX5x9lgfyN"
      },
      "source": [
        "submitDF['price']=submitDF['price'].apply(lambda x: x* 0.8)"
      ],
      "execution_count": null,
      "outputs": []
    },
    {
      "cell_type": "code",
      "metadata": {
        "id": "GJHPihSogfyO",
        "outputId": "4fe894e0-a9fc-4066-a9ac-ecfa0ce0bd03"
      },
      "source": [
        "submitDF.iloc[165][0]=4389\n",
        "submitDF.shape\n"
      ],
      "execution_count": null,
      "outputs": [
        {
          "output_type": "execute_result",
          "data": {
            "text/plain": [
              "(261, 1)"
            ]
          },
          "metadata": {
            "tags": []
          },
          "execution_count": 54
        }
      ]
    },
    {
      "cell_type": "code",
      "metadata": {
        "id": "wu9ebV5qgfyS"
      },
      "source": [
        "submitDF.to_csv('신재현_Adv_price2.csv')"
      ],
      "execution_count": null,
      "outputs": []
    },
    {
      "cell_type": "code",
      "metadata": {
        "id": "Nd0SDGYQgfyS",
        "outputId": "60a0ca11-c842-4a14-d8d3-7663c5679bb2"
      },
      "source": [
        "submitDF"
      ],
      "execution_count": null,
      "outputs": [
        {
          "output_type": "execute_result",
          "data": {
            "text/html": [
              "<div>\n",
              "<style scoped>\n",
              "    .dataframe tbody tr th:only-of-type {\n",
              "        vertical-align: middle;\n",
              "    }\n",
              "\n",
              "    .dataframe tbody tr th {\n",
              "        vertical-align: top;\n",
              "    }\n",
              "\n",
              "    .dataframe thead th {\n",
              "        text-align: right;\n",
              "    }\n",
              "</style>\n",
              "<table border=\"1\" class=\"dataframe\">\n",
              "  <thead>\n",
              "    <tr style=\"text-align: right;\">\n",
              "      <th></th>\n",
              "      <th>price</th>\n",
              "    </tr>\n",
              "  </thead>\n",
              "  <tbody>\n",
              "    <tr>\n",
              "      <th>0</th>\n",
              "      <td>1627.660969</td>\n",
              "    </tr>\n",
              "    <tr>\n",
              "      <th>1</th>\n",
              "      <td>1589.926296</td>\n",
              "    </tr>\n",
              "    <tr>\n",
              "      <th>2</th>\n",
              "      <td>907.872956</td>\n",
              "    </tr>\n",
              "    <tr>\n",
              "      <th>3</th>\n",
              "      <td>1390.818836</td>\n",
              "    </tr>\n",
              "    <tr>\n",
              "      <th>4</th>\n",
              "      <td>1111.566286</td>\n",
              "    </tr>\n",
              "    <tr>\n",
              "      <th>...</th>\n",
              "      <td>...</td>\n",
              "    </tr>\n",
              "    <tr>\n",
              "      <th>256</th>\n",
              "      <td>1967.539833</td>\n",
              "    </tr>\n",
              "    <tr>\n",
              "      <th>257</th>\n",
              "      <td>1003.403871</td>\n",
              "    </tr>\n",
              "    <tr>\n",
              "      <th>258</th>\n",
              "      <td>2479.559930</td>\n",
              "    </tr>\n",
              "    <tr>\n",
              "      <th>259</th>\n",
              "      <td>1904.101257</td>\n",
              "    </tr>\n",
              "    <tr>\n",
              "      <th>260</th>\n",
              "      <td>1794.592854</td>\n",
              "    </tr>\n",
              "  </tbody>\n",
              "</table>\n",
              "<p>261 rows × 1 columns</p>\n",
              "</div>"
            ],
            "text/plain": [
              "           price\n",
              "0    1627.660969\n",
              "1    1589.926296\n",
              "2     907.872956\n",
              "3    1390.818836\n",
              "4    1111.566286\n",
              "..           ...\n",
              "256  1967.539833\n",
              "257  1003.403871\n",
              "258  2479.559930\n",
              "259  1904.101257\n",
              "260  1794.592854\n",
              "\n",
              "[261 rows x 1 columns]"
            ]
          },
          "metadata": {
            "tags": []
          },
          "execution_count": 56
        }
      ]
    },
    {
      "cell_type": "code",
      "metadata": {
        "id": "I3lG3w0DgfyY",
        "outputId": "69c71df4-3cbb-4383-edd5-60718ce91619"
      },
      "source": [
        "# from sklearn.metrics import mean_squared_error\n",
        "# mseMetric=mean_squared_error(y_pred_submit,y_test)\n",
        "# rmse= mseMetric**0.5\n",
        "# print('**MEAN SQUARE ERROR: ',mseMetric)\n",
        "# print('**rmse:', rmse)"
      ],
      "execution_count": null,
      "outputs": [
        {
          "output_type": "error",
          "ename": "ValueError",
          "evalue": "Found input variables with inconsistent numbers of samples: [249, 206]",
          "traceback": [
            "\u001b[1;31m---------------------------------------------------------------------------\u001b[0m",
            "\u001b[1;31mValueError\u001b[0m                                Traceback (most recent call last)",
            "\u001b[1;32m<ipython-input-109-e9faecf22e8a>\u001b[0m in \u001b[0;36m<module>\u001b[1;34m\u001b[0m\n\u001b[0;32m      1\u001b[0m \u001b[1;32mfrom\u001b[0m \u001b[0msklearn\u001b[0m\u001b[1;33m.\u001b[0m\u001b[0mmetrics\u001b[0m \u001b[1;32mimport\u001b[0m \u001b[0mmean_squared_error\u001b[0m\u001b[1;33m\u001b[0m\u001b[1;33m\u001b[0m\u001b[0m\n\u001b[1;32m----> 2\u001b[1;33m \u001b[0mmseMetric\u001b[0m\u001b[1;33m=\u001b[0m\u001b[0mmean_squared_error\u001b[0m\u001b[1;33m(\u001b[0m\u001b[0my_pred_submit\u001b[0m\u001b[1;33m,\u001b[0m\u001b[0my_test\u001b[0m\u001b[1;33m)\u001b[0m\u001b[1;33m\u001b[0m\u001b[1;33m\u001b[0m\u001b[0m\n\u001b[0m\u001b[0;32m      3\u001b[0m \u001b[0mrmse\u001b[0m\u001b[1;33m=\u001b[0m \u001b[0mmseMetric\u001b[0m\u001b[1;33m**\u001b[0m\u001b[1;36m0.5\u001b[0m\u001b[1;33m\u001b[0m\u001b[1;33m\u001b[0m\u001b[0m\n\u001b[0;32m      4\u001b[0m \u001b[0mprint\u001b[0m\u001b[1;33m(\u001b[0m\u001b[1;34m'**MEAN SQUARE ERROR: '\u001b[0m\u001b[1;33m,\u001b[0m\u001b[0mmseMetric\u001b[0m\u001b[1;33m)\u001b[0m\u001b[1;33m\u001b[0m\u001b[1;33m\u001b[0m\u001b[0m\n\u001b[0;32m      5\u001b[0m \u001b[0mprint\u001b[0m\u001b[1;33m(\u001b[0m\u001b[1;34m'**rmse:'\u001b[0m\u001b[1;33m,\u001b[0m \u001b[0mrmse\u001b[0m\u001b[1;33m)\u001b[0m\u001b[1;33m\u001b[0m\u001b[1;33m\u001b[0m\u001b[0m\n",
            "\u001b[1;32m~\\miniconda3\\lib\\site-packages\\sklearn\\utils\\validation.py\u001b[0m in \u001b[0;36minner_f\u001b[1;34m(*args, **kwargs)\u001b[0m\n\u001b[0;32m     70\u001b[0m                           FutureWarning)\n\u001b[0;32m     71\u001b[0m         \u001b[0mkwargs\u001b[0m\u001b[1;33m.\u001b[0m\u001b[0mupdate\u001b[0m\u001b[1;33m(\u001b[0m\u001b[1;33m{\u001b[0m\u001b[0mk\u001b[0m\u001b[1;33m:\u001b[0m \u001b[0marg\u001b[0m \u001b[1;32mfor\u001b[0m \u001b[0mk\u001b[0m\u001b[1;33m,\u001b[0m \u001b[0marg\u001b[0m \u001b[1;32min\u001b[0m \u001b[0mzip\u001b[0m\u001b[1;33m(\u001b[0m\u001b[0msig\u001b[0m\u001b[1;33m.\u001b[0m\u001b[0mparameters\u001b[0m\u001b[1;33m,\u001b[0m \u001b[0margs\u001b[0m\u001b[1;33m)\u001b[0m\u001b[1;33m}\u001b[0m\u001b[1;33m)\u001b[0m\u001b[1;33m\u001b[0m\u001b[1;33m\u001b[0m\u001b[0m\n\u001b[1;32m---> 72\u001b[1;33m         \u001b[1;32mreturn\u001b[0m \u001b[0mf\u001b[0m\u001b[1;33m(\u001b[0m\u001b[1;33m**\u001b[0m\u001b[0mkwargs\u001b[0m\u001b[1;33m)\u001b[0m\u001b[1;33m\u001b[0m\u001b[1;33m\u001b[0m\u001b[0m\n\u001b[0m\u001b[0;32m     73\u001b[0m     \u001b[1;32mreturn\u001b[0m \u001b[0minner_f\u001b[0m\u001b[1;33m\u001b[0m\u001b[1;33m\u001b[0m\u001b[0m\n\u001b[0;32m     74\u001b[0m \u001b[1;33m\u001b[0m\u001b[0m\n",
            "\u001b[1;32m~\\miniconda3\\lib\\site-packages\\sklearn\\metrics\\_regression.py\u001b[0m in \u001b[0;36mmean_squared_error\u001b[1;34m(y_true, y_pred, sample_weight, multioutput, squared)\u001b[0m\n\u001b[0;32m    253\u001b[0m \u001b[1;33m\u001b[0m\u001b[0m\n\u001b[0;32m    254\u001b[0m     \"\"\"\n\u001b[1;32m--> 255\u001b[1;33m     y_type, y_true, y_pred, multioutput = _check_reg_targets(\n\u001b[0m\u001b[0;32m    256\u001b[0m         y_true, y_pred, multioutput)\n\u001b[0;32m    257\u001b[0m     \u001b[0mcheck_consistent_length\u001b[0m\u001b[1;33m(\u001b[0m\u001b[0my_true\u001b[0m\u001b[1;33m,\u001b[0m \u001b[0my_pred\u001b[0m\u001b[1;33m,\u001b[0m \u001b[0msample_weight\u001b[0m\u001b[1;33m)\u001b[0m\u001b[1;33m\u001b[0m\u001b[1;33m\u001b[0m\u001b[0m\n",
            "\u001b[1;32m~\\miniconda3\\lib\\site-packages\\sklearn\\metrics\\_regression.py\u001b[0m in \u001b[0;36m_check_reg_targets\u001b[1;34m(y_true, y_pred, multioutput, dtype)\u001b[0m\n\u001b[0;32m     82\u001b[0m \u001b[1;33m\u001b[0m\u001b[0m\n\u001b[0;32m     83\u001b[0m     \"\"\"\n\u001b[1;32m---> 84\u001b[1;33m     \u001b[0mcheck_consistent_length\u001b[0m\u001b[1;33m(\u001b[0m\u001b[0my_true\u001b[0m\u001b[1;33m,\u001b[0m \u001b[0my_pred\u001b[0m\u001b[1;33m)\u001b[0m\u001b[1;33m\u001b[0m\u001b[1;33m\u001b[0m\u001b[0m\n\u001b[0m\u001b[0;32m     85\u001b[0m     \u001b[0my_true\u001b[0m \u001b[1;33m=\u001b[0m \u001b[0mcheck_array\u001b[0m\u001b[1;33m(\u001b[0m\u001b[0my_true\u001b[0m\u001b[1;33m,\u001b[0m \u001b[0mensure_2d\u001b[0m\u001b[1;33m=\u001b[0m\u001b[1;32mFalse\u001b[0m\u001b[1;33m,\u001b[0m \u001b[0mdtype\u001b[0m\u001b[1;33m=\u001b[0m\u001b[0mdtype\u001b[0m\u001b[1;33m)\u001b[0m\u001b[1;33m\u001b[0m\u001b[1;33m\u001b[0m\u001b[0m\n\u001b[0;32m     86\u001b[0m     \u001b[0my_pred\u001b[0m \u001b[1;33m=\u001b[0m \u001b[0mcheck_array\u001b[0m\u001b[1;33m(\u001b[0m\u001b[0my_pred\u001b[0m\u001b[1;33m,\u001b[0m \u001b[0mensure_2d\u001b[0m\u001b[1;33m=\u001b[0m\u001b[1;32mFalse\u001b[0m\u001b[1;33m,\u001b[0m \u001b[0mdtype\u001b[0m\u001b[1;33m=\u001b[0m\u001b[0mdtype\u001b[0m\u001b[1;33m)\u001b[0m\u001b[1;33m\u001b[0m\u001b[1;33m\u001b[0m\u001b[0m\n",
            "\u001b[1;32m~\\miniconda3\\lib\\site-packages\\sklearn\\utils\\validation.py\u001b[0m in \u001b[0;36mcheck_consistent_length\u001b[1;34m(*arrays)\u001b[0m\n\u001b[0;32m    253\u001b[0m     \u001b[0muniques\u001b[0m \u001b[1;33m=\u001b[0m \u001b[0mnp\u001b[0m\u001b[1;33m.\u001b[0m\u001b[0munique\u001b[0m\u001b[1;33m(\u001b[0m\u001b[0mlengths\u001b[0m\u001b[1;33m)\u001b[0m\u001b[1;33m\u001b[0m\u001b[1;33m\u001b[0m\u001b[0m\n\u001b[0;32m    254\u001b[0m     \u001b[1;32mif\u001b[0m \u001b[0mlen\u001b[0m\u001b[1;33m(\u001b[0m\u001b[0muniques\u001b[0m\u001b[1;33m)\u001b[0m \u001b[1;33m>\u001b[0m \u001b[1;36m1\u001b[0m\u001b[1;33m:\u001b[0m\u001b[1;33m\u001b[0m\u001b[1;33m\u001b[0m\u001b[0m\n\u001b[1;32m--> 255\u001b[1;33m         raise ValueError(\"Found input variables with inconsistent numbers of\"\n\u001b[0m\u001b[0;32m    256\u001b[0m                          \" samples: %r\" % [int(l) for l in lengths])\n\u001b[0;32m    257\u001b[0m \u001b[1;33m\u001b[0m\u001b[0m\n",
            "\u001b[1;31mValueError\u001b[0m: Found input variables with inconsistent numbers of samples: [249, 206]"
          ]
        }
      ]
    },
    {
      "cell_type": "code",
      "metadata": {
        "id": "qperPVCkgfyZ",
        "outputId": "25f83b77-dfe2-4301-b6b3-65a836224de4"
      },
      "source": [
        "list(set(testNew.columns).difference(set(x_train.columns)))"
      ],
      "execution_count": null,
      "outputs": [
        {
          "output_type": "execute_result",
          "data": {
            "text/plain": [
              "['Cpu']"
            ]
          },
          "metadata": {
            "tags": []
          },
          "execution_count": 85
        }
      ]
    },
    {
      "cell_type": "markdown",
      "metadata": {
        "id": "H1VurUJxgfya"
      },
      "source": [
        "## 선형 회귀 성능을 위한 규제(인공지능 강의)"
      ]
    },
    {
      "cell_type": "code",
      "metadata": {
        "collapsed": true,
        "id": "8QDKFSa_gfya",
        "outputId": "a6e58e48-e40a-410b-cbc6-5ccee1c2c8b0"
      },
      "source": [
        "#잘 몰라 낼 고민\n",
        "from sklearn.linear_model import LinearRegression\n",
        "from sklearn.metrics import mean_squared_error\n",
        "\n",
        "LR = LinearRegression()\n",
        "\n",
        "# Storage for error values\n",
        "error_df = list()\n",
        "\n",
        "# Data that have not been one-hot encoded\n",
        "LR = LR.fit(X_train, y_train)\n",
        "y_train_pred = LR.predict(X_train)\n",
        "y_test_pred = LR.predict(X_test)\n",
        "\n",
        "error_df.append(pd.Series({'train': mean_squared_error(y_train, y_train_pred),\n",
        "                           'test' : mean_squared_error(y_test,  y_test_pred)},\n",
        "                           name='no enc'))\n",
        "\n",
        "# Data that have been one-hot encoded\n",
        "LR = LR.fit(X_train_ohc, y_train_ohc)\n",
        "y_train_ohc_pred = LR.predict(X_train_ohc)\n",
        "y_test_ohc_pred = LR.predict(X_test_ohc)\n",
        "\n",
        "error_df.append(pd.Series({'train': mean_squared_error(y_train_ohc, y_train_ohc_pred),\n",
        "                           'test' : mean_squared_error(y_test_ohc,  y_test_ohc_pred)},\n",
        "                          name='one-hot enc'))\n",
        "\n",
        "# Assemble the results\n",
        "error_df = pd.concat(error_df, axis=1)\n",
        "error_df\n",
        "\n",
        "trainNew.reset_index()"
      ],
      "execution_count": null,
      "outputs": [
        {
          "output_type": "execute_result",
          "data": {
            "text/html": [
              "<div>\n",
              "<style scoped>\n",
              "    .dataframe tbody tr th:only-of-type {\n",
              "        vertical-align: middle;\n",
              "    }\n",
              "\n",
              "    .dataframe tbody tr th {\n",
              "        vertical-align: top;\n",
              "    }\n",
              "\n",
              "    .dataframe thead th {\n",
              "        text-align: right;\n",
              "    }\n",
              "</style>\n",
              "<table border=\"1\" class=\"dataframe\">\n",
              "  <thead>\n",
              "    <tr style=\"text-align: right;\">\n",
              "      <th></th>\n",
              "      <th>index</th>\n",
              "      <th>Company</th>\n",
              "      <th>TypeName</th>\n",
              "      <th>Inches</th>\n",
              "      <th>ScreenResolution</th>\n",
              "      <th>Cpu</th>\n",
              "      <th>Ram</th>\n",
              "      <th>Memory</th>\n",
              "      <th>Gpu</th>\n",
              "      <th>Weight</th>\n",
              "      <th>...</th>\n",
              "      <th>Cpu_AMD_Ryzen</th>\n",
              "      <th>Cpu_AMD_FX</th>\n",
              "      <th>Cpu_AMD_E</th>\n",
              "      <th>Android</th>\n",
              "      <th>Chrome OS</th>\n",
              "      <th>Linux</th>\n",
              "      <th>No OS</th>\n",
              "      <th>Windows</th>\n",
              "      <th>MacOS</th>\n",
              "      <th>price</th>\n",
              "    </tr>\n",
              "  </thead>\n",
              "  <tbody>\n",
              "    <tr>\n",
              "      <th>0</th>\n",
              "      <td>0</td>\n",
              "      <td>3</td>\n",
              "      <td>1</td>\n",
              "      <td>15.6</td>\n",
              "      <td>1366x768</td>\n",
              "      <td>Intel+Core+i5+7200U+2.5GHz</td>\n",
              "      <td>4</td>\n",
              "      <td>8</td>\n",
              "      <td>52</td>\n",
              "      <td>1.86</td>\n",
              "      <td>...</td>\n",
              "      <td>0</td>\n",
              "      <td>0</td>\n",
              "      <td>0</td>\n",
              "      <td>0</td>\n",
              "      <td>0</td>\n",
              "      <td>0</td>\n",
              "      <td>1</td>\n",
              "      <td>0</td>\n",
              "      <td>0</td>\n",
              "      <td>393.90</td>\n",
              "    </tr>\n",
              "    <tr>\n",
              "      <th>1</th>\n",
              "      <td>1</td>\n",
              "      <td>4</td>\n",
              "      <td>1</td>\n",
              "      <td>15.6</td>\n",
              "      <td>Full HD 1920x1080</td>\n",
              "      <td>Intel+Celeron+Dual+Core+N3350+1.1GHz</td>\n",
              "      <td>4</td>\n",
              "      <td>10</td>\n",
              "      <td>3</td>\n",
              "      <td>2.00</td>\n",
              "      <td>...</td>\n",
              "      <td>0</td>\n",
              "      <td>0</td>\n",
              "      <td>0</td>\n",
              "      <td>0</td>\n",
              "      <td>0</td>\n",
              "      <td>0</td>\n",
              "      <td>0</td>\n",
              "      <td>1</td>\n",
              "      <td>0</td>\n",
              "      <td>344.00</td>\n",
              "    </tr>\n",
              "    <tr>\n",
              "      <th>2</th>\n",
              "      <td>2</td>\n",
              "      <td>3</td>\n",
              "      <td>1</td>\n",
              "      <td>15.6</td>\n",
              "      <td>1366x768</td>\n",
              "      <td>Intel+Core+i7+6500U+2.5GHz</td>\n",
              "      <td>6</td>\n",
              "      <td>10</td>\n",
              "      <td>30</td>\n",
              "      <td>2.19</td>\n",
              "      <td>...</td>\n",
              "      <td>0</td>\n",
              "      <td>0</td>\n",
              "      <td>0</td>\n",
              "      <td>0</td>\n",
              "      <td>0</td>\n",
              "      <td>0</td>\n",
              "      <td>0</td>\n",
              "      <td>1</td>\n",
              "      <td>0</td>\n",
              "      <td>764.00</td>\n",
              "    </tr>\n",
              "    <tr>\n",
              "      <th>3</th>\n",
              "      <td>3</td>\n",
              "      <td>7</td>\n",
              "      <td>4</td>\n",
              "      <td>15.6</td>\n",
              "      <td>IPS Panel Touchscreen / 4K Ultra HD 3840x2160</td>\n",
              "      <td>Intel+Core+i7+6700HQ+2.6GHz</td>\n",
              "      <td>16</td>\n",
              "      <td>20</td>\n",
              "      <td>50</td>\n",
              "      <td>2.72</td>\n",
              "      <td>...</td>\n",
              "      <td>0</td>\n",
              "      <td>0</td>\n",
              "      <td>0</td>\n",
              "      <td>0</td>\n",
              "      <td>0</td>\n",
              "      <td>0</td>\n",
              "      <td>0</td>\n",
              "      <td>1</td>\n",
              "      <td>0</td>\n",
              "      <td>1099.00</td>\n",
              "    </tr>\n",
              "    <tr>\n",
              "      <th>4</th>\n",
              "      <td>4</td>\n",
              "      <td>14</td>\n",
              "      <td>3</td>\n",
              "      <td>12.5</td>\n",
              "      <td>IPS Panel 4K Ultra HD / Touchscreen 3840x2160</td>\n",
              "      <td>Intel+Core+i7+7500U+2.5GHz</td>\n",
              "      <td>16</td>\n",
              "      <td>29</td>\n",
              "      <td>52</td>\n",
              "      <td>1.29</td>\n",
              "      <td>...</td>\n",
              "      <td>0</td>\n",
              "      <td>0</td>\n",
              "      <td>0</td>\n",
              "      <td>0</td>\n",
              "      <td>0</td>\n",
              "      <td>0</td>\n",
              "      <td>0</td>\n",
              "      <td>1</td>\n",
              "      <td>0</td>\n",
              "      <td>1799.00</td>\n",
              "    </tr>\n",
              "    <tr>\n",
              "      <th>...</th>\n",
              "      <td>...</td>\n",
              "      <td>...</td>\n",
              "      <td>...</td>\n",
              "      <td>...</td>\n",
              "      <td>...</td>\n",
              "      <td>...</td>\n",
              "      <td>...</td>\n",
              "      <td>...</td>\n",
              "      <td>...</td>\n",
              "      <td>...</td>\n",
              "      <td>...</td>\n",
              "      <td>...</td>\n",
              "      <td>...</td>\n",
              "      <td>...</td>\n",
              "      <td>...</td>\n",
              "      <td>...</td>\n",
              "      <td>...</td>\n",
              "      <td>...</td>\n",
              "      <td>...</td>\n",
              "      <td>...</td>\n",
              "      <td>...</td>\n",
              "    </tr>\n",
              "    <tr>\n",
              "      <th>1024</th>\n",
              "      <td>1037</td>\n",
              "      <td>1</td>\n",
              "      <td>1</td>\n",
              "      <td>15.6</td>\n",
              "      <td>Full HD 1920x1080</td>\n",
              "      <td>Intel+Core+i5+7200U+2.5GHz</td>\n",
              "      <td>8</td>\n",
              "      <td>27</td>\n",
              "      <td>37</td>\n",
              "      <td>2.40</td>\n",
              "      <td>...</td>\n",
              "      <td>0</td>\n",
              "      <td>0</td>\n",
              "      <td>0</td>\n",
              "      <td>0</td>\n",
              "      <td>0</td>\n",
              "      <td>0</td>\n",
              "      <td>0</td>\n",
              "      <td>1</td>\n",
              "      <td>0</td>\n",
              "      <td>799.00</td>\n",
              "    </tr>\n",
              "    <tr>\n",
              "      <th>1025</th>\n",
              "      <td>1038</td>\n",
              "      <td>3</td>\n",
              "      <td>1</td>\n",
              "      <td>15.6</td>\n",
              "      <td>1366x768</td>\n",
              "      <td>Intel+Core+i7+7500U+2.7GHz</td>\n",
              "      <td>8</td>\n",
              "      <td>12</td>\n",
              "      <td>52</td>\n",
              "      <td>2.04</td>\n",
              "      <td>...</td>\n",
              "      <td>0</td>\n",
              "      <td>0</td>\n",
              "      <td>0</td>\n",
              "      <td>0</td>\n",
              "      <td>0</td>\n",
              "      <td>0</td>\n",
              "      <td>0</td>\n",
              "      <td>1</td>\n",
              "      <td>0</td>\n",
              "      <td>629.00</td>\n",
              "    </tr>\n",
              "    <tr>\n",
              "      <th>1026</th>\n",
              "      <td>1039</td>\n",
              "      <td>3</td>\n",
              "      <td>1</td>\n",
              "      <td>15.6</td>\n",
              "      <td>Full HD 1920x1080</td>\n",
              "      <td>AMD+A9-Series+9410+2.9GHz</td>\n",
              "      <td>6</td>\n",
              "      <td>14</td>\n",
              "      <td>15</td>\n",
              "      <td>2.04</td>\n",
              "      <td>...</td>\n",
              "      <td>0</td>\n",
              "      <td>0</td>\n",
              "      <td>0</td>\n",
              "      <td>0</td>\n",
              "      <td>0</td>\n",
              "      <td>0</td>\n",
              "      <td>0</td>\n",
              "      <td>1</td>\n",
              "      <td>0</td>\n",
              "      <td>549.99</td>\n",
              "    </tr>\n",
              "    <tr>\n",
              "      <th>1027</th>\n",
              "      <td>1040</td>\n",
              "      <td>5</td>\n",
              "      <td>1</td>\n",
              "      <td>15.6</td>\n",
              "      <td>IPS Panel Full HD 1920x1080</td>\n",
              "      <td>Intel+Core+i5+7200U+2.5GHz</td>\n",
              "      <td>8</td>\n",
              "      <td>10</td>\n",
              "      <td>52</td>\n",
              "      <td>2.30</td>\n",
              "      <td>...</td>\n",
              "      <td>0</td>\n",
              "      <td>0</td>\n",
              "      <td>0</td>\n",
              "      <td>0</td>\n",
              "      <td>0</td>\n",
              "      <td>0</td>\n",
              "      <td>0</td>\n",
              "      <td>1</td>\n",
              "      <td>0</td>\n",
              "      <td>850.66</td>\n",
              "    </tr>\n",
              "    <tr>\n",
              "      <th>1028</th>\n",
              "      <td>1041</td>\n",
              "      <td>5</td>\n",
              "      <td>2</td>\n",
              "      <td>10.1</td>\n",
              "      <td>IPS Panel Touchscreen 1920x1200</td>\n",
              "      <td>Intel+Atom+x5-Z8550+1.44GHz</td>\n",
              "      <td>4</td>\n",
              "      <td>5</td>\n",
              "      <td>2</td>\n",
              "      <td>0.69</td>\n",
              "      <td>...</td>\n",
              "      <td>0</td>\n",
              "      <td>0</td>\n",
              "      <td>8550</td>\n",
              "      <td>0</td>\n",
              "      <td>0</td>\n",
              "      <td>0</td>\n",
              "      <td>0</td>\n",
              "      <td>1</td>\n",
              "      <td>0</td>\n",
              "      <td>479.00</td>\n",
              "    </tr>\n",
              "  </tbody>\n",
              "</table>\n",
              "<p>1029 rows × 32 columns</p>\n",
              "</div>"
            ],
            "text/plain": [
              "      index  Company  TypeName  Inches  \\\n",
              "0         0        3         1    15.6   \n",
              "1         1        4         1    15.6   \n",
              "2         2        3         1    15.6   \n",
              "3         3        7         4    15.6   \n",
              "4         4       14         3    12.5   \n",
              "...     ...      ...       ...     ...   \n",
              "1024   1037        1         1    15.6   \n",
              "1025   1038        3         1    15.6   \n",
              "1026   1039        3         1    15.6   \n",
              "1027   1040        5         1    15.6   \n",
              "1028   1041        5         2    10.1   \n",
              "\n",
              "                                   ScreenResolution  \\\n",
              "0                                          1366x768   \n",
              "1                                 Full HD 1920x1080   \n",
              "2                                          1366x768   \n",
              "3     IPS Panel Touchscreen / 4K Ultra HD 3840x2160   \n",
              "4     IPS Panel 4K Ultra HD / Touchscreen 3840x2160   \n",
              "...                                             ...   \n",
              "1024                              Full HD 1920x1080   \n",
              "1025                                       1366x768   \n",
              "1026                              Full HD 1920x1080   \n",
              "1027                    IPS Panel Full HD 1920x1080   \n",
              "1028                IPS Panel Touchscreen 1920x1200   \n",
              "\n",
              "                                       Cpu  Ram  Memory  Gpu  Weight  ...  \\\n",
              "0               Intel+Core+i5+7200U+2.5GHz    4       8   52    1.86  ...   \n",
              "1     Intel+Celeron+Dual+Core+N3350+1.1GHz    4      10    3    2.00  ...   \n",
              "2               Intel+Core+i7+6500U+2.5GHz    6      10   30    2.19  ...   \n",
              "3              Intel+Core+i7+6700HQ+2.6GHz   16      20   50    2.72  ...   \n",
              "4               Intel+Core+i7+7500U+2.5GHz   16      29   52    1.29  ...   \n",
              "...                                    ...  ...     ...  ...     ...  ...   \n",
              "1024            Intel+Core+i5+7200U+2.5GHz    8      27   37    2.40  ...   \n",
              "1025            Intel+Core+i7+7500U+2.7GHz    8      12   52    2.04  ...   \n",
              "1026             AMD+A9-Series+9410+2.9GHz    6      14   15    2.04  ...   \n",
              "1027            Intel+Core+i5+7200U+2.5GHz    8      10   52    2.30  ...   \n",
              "1028           Intel+Atom+x5-Z8550+1.44GHz    4       5    2    0.69  ...   \n",
              "\n",
              "      Cpu_AMD_Ryzen  Cpu_AMD_FX  Cpu_AMD_E  Android  Chrome OS  Linux  No OS  \\\n",
              "0                 0           0          0        0          0      0      1   \n",
              "1                 0           0          0        0          0      0      0   \n",
              "2                 0           0          0        0          0      0      0   \n",
              "3                 0           0          0        0          0      0      0   \n",
              "4                 0           0          0        0          0      0      0   \n",
              "...             ...         ...        ...      ...        ...    ...    ...   \n",
              "1024              0           0          0        0          0      0      0   \n",
              "1025              0           0          0        0          0      0      0   \n",
              "1026              0           0          0        0          0      0      0   \n",
              "1027              0           0          0        0          0      0      0   \n",
              "1028              0           0       8550        0          0      0      0   \n",
              "\n",
              "      Windows  MacOS    price  \n",
              "0           0      0   393.90  \n",
              "1           1      0   344.00  \n",
              "2           1      0   764.00  \n",
              "3           1      0  1099.00  \n",
              "4           1      0  1799.00  \n",
              "...       ...    ...      ...  \n",
              "1024        1      0   799.00  \n",
              "1025        1      0   629.00  \n",
              "1026        1      0   549.99  \n",
              "1027        1      0   850.66  \n",
              "1028        1      0   479.00  \n",
              "\n",
              "[1029 rows x 32 columns]"
            ]
          },
          "metadata": {
            "tags": []
          },
          "execution_count": 62
        }
      ]
    },
    {
      "cell_type": "code",
      "metadata": {
        "id": "n1aFB_GJgfyb"
      },
      "source": [],
      "execution_count": null,
      "outputs": []
    },
    {
      "cell_type": "code",
      "metadata": {
        "collapsed": true,
        "id": "UYWBD7uOgfyc",
        "outputId": "48cb429c-c589-4647-be00-3f770012ea6e"
      },
      "source": [
        "trainNew.drop(['Inches'],axis=1)\n",
        "testNew.drop(['Inches'],axis=1)"
      ],
      "execution_count": null,
      "outputs": [
        {
          "output_type": "execute_result",
          "data": {
            "text/html": [
              "<div>\n",
              "<style scoped>\n",
              "    .dataframe tbody tr th:only-of-type {\n",
              "        vertical-align: middle;\n",
              "    }\n",
              "\n",
              "    .dataframe tbody tr th {\n",
              "        vertical-align: top;\n",
              "    }\n",
              "\n",
              "    .dataframe thead th {\n",
              "        text-align: right;\n",
              "    }\n",
              "</style>\n",
              "<table border=\"1\" class=\"dataframe\">\n",
              "  <thead>\n",
              "    <tr style=\"text-align: right;\">\n",
              "      <th></th>\n",
              "      <th>Company</th>\n",
              "      <th>Product</th>\n",
              "      <th>TypeName</th>\n",
              "      <th>ScreenResolution</th>\n",
              "      <th>Cpu</th>\n",
              "      <th>Ram</th>\n",
              "      <th>Memory</th>\n",
              "      <th>Gpu</th>\n",
              "      <th>Weight</th>\n",
              "      <th>GHz</th>\n",
              "      <th>...</th>\n",
              "      <th>Cpu_i7</th>\n",
              "      <th>Cpu_AMD_A</th>\n",
              "      <th>Cpu_AMD_Ryzen</th>\n",
              "      <th>Cpu_AMD_FX</th>\n",
              "      <th>Cpu_AMD_E</th>\n",
              "      <th>Chrome OS</th>\n",
              "      <th>Linux</th>\n",
              "      <th>No OS</th>\n",
              "      <th>Windows</th>\n",
              "      <th>MacOS</th>\n",
              "    </tr>\n",
              "  </thead>\n",
              "  <tbody>\n",
              "    <tr>\n",
              "      <th>0</th>\n",
              "      <td>NaN</td>\n",
              "      <td>Portege X30-D-10J</td>\n",
              "      <td>1</td>\n",
              "      <td>IPS Panel Full HD 1920x1080</td>\n",
              "      <td>Intel+Core+i5+7200U+2.5GHz</td>\n",
              "      <td>8</td>\n",
              "      <td>19.0</td>\n",
              "      <td>52.0</td>\n",
              "      <td>1.05</td>\n",
              "      <td>2.5</td>\n",
              "      <td>...</td>\n",
              "      <td>0</td>\n",
              "      <td>0</td>\n",
              "      <td>0</td>\n",
              "      <td>0</td>\n",
              "      <td>0</td>\n",
              "      <td>0</td>\n",
              "      <td>0</td>\n",
              "      <td>0</td>\n",
              "      <td>1</td>\n",
              "      <td>0</td>\n",
              "    </tr>\n",
              "    <tr>\n",
              "      <th>1</th>\n",
              "      <td>NaN</td>\n",
              "      <td>Spectre 13-V100nv</td>\n",
              "      <td>1</td>\n",
              "      <td>IPS Panel Full HD 1920x1080</td>\n",
              "      <td>Intel+Core+i5+7200U+2.5GHz</td>\n",
              "      <td>8</td>\n",
              "      <td>19.0</td>\n",
              "      <td>52.0</td>\n",
              "      <td>1.11</td>\n",
              "      <td>2.5</td>\n",
              "      <td>...</td>\n",
              "      <td>0</td>\n",
              "      <td>0</td>\n",
              "      <td>0</td>\n",
              "      <td>0</td>\n",
              "      <td>0</td>\n",
              "      <td>0</td>\n",
              "      <td>0</td>\n",
              "      <td>0</td>\n",
              "      <td>1</td>\n",
              "      <td>0</td>\n",
              "    </tr>\n",
              "    <tr>\n",
              "      <th>2</th>\n",
              "      <td>NaN</td>\n",
              "      <td>IdeaPad 310-15ABR</td>\n",
              "      <td>1</td>\n",
              "      <td>Full HD 1920x1080</td>\n",
              "      <td>AMD+A10-Series+9600P+2.4GHz</td>\n",
              "      <td>6</td>\n",
              "      <td>10.0</td>\n",
              "      <td>NaN</td>\n",
              "      <td>2.40</td>\n",
              "      <td>2.4</td>\n",
              "      <td>...</td>\n",
              "      <td>0</td>\n",
              "      <td>109600</td>\n",
              "      <td>0</td>\n",
              "      <td>0</td>\n",
              "      <td>0</td>\n",
              "      <td>0</td>\n",
              "      <td>0</td>\n",
              "      <td>0</td>\n",
              "      <td>1</td>\n",
              "      <td>0</td>\n",
              "    </tr>\n",
              "    <tr>\n",
              "      <th>3</th>\n",
              "      <td>NaN</td>\n",
              "      <td>IdeaPad Y700-15ISK</td>\n",
              "      <td>1</td>\n",
              "      <td>IPS Panel Full HD 1920x1080</td>\n",
              "      <td>Intel+Core+i7+6700HQ+2.6GHz</td>\n",
              "      <td>8</td>\n",
              "      <td>10.0</td>\n",
              "      <td>50.0</td>\n",
              "      <td>2.60</td>\n",
              "      <td>2.6</td>\n",
              "      <td>...</td>\n",
              "      <td>6700</td>\n",
              "      <td>0</td>\n",
              "      <td>0</td>\n",
              "      <td>0</td>\n",
              "      <td>0</td>\n",
              "      <td>0</td>\n",
              "      <td>0</td>\n",
              "      <td>0</td>\n",
              "      <td>1</td>\n",
              "      <td>0</td>\n",
              "    </tr>\n",
              "    <tr>\n",
              "      <th>4</th>\n",
              "      <td>NaN</td>\n",
              "      <td>EliteBook 820</td>\n",
              "      <td>3</td>\n",
              "      <td>1366x768</td>\n",
              "      <td>Intel+Core+i5+6200U+2.3GHz</td>\n",
              "      <td>4</td>\n",
              "      <td>19.0</td>\n",
              "      <td>48.0</td>\n",
              "      <td>1.26</td>\n",
              "      <td>2.3</td>\n",
              "      <td>...</td>\n",
              "      <td>0</td>\n",
              "      <td>0</td>\n",
              "      <td>0</td>\n",
              "      <td>0</td>\n",
              "      <td>0</td>\n",
              "      <td>0</td>\n",
              "      <td>0</td>\n",
              "      <td>0</td>\n",
              "      <td>1</td>\n",
              "      <td>0</td>\n",
              "    </tr>\n",
              "    <tr>\n",
              "      <th>...</th>\n",
              "      <td>...</td>\n",
              "      <td>...</td>\n",
              "      <td>...</td>\n",
              "      <td>...</td>\n",
              "      <td>...</td>\n",
              "      <td>...</td>\n",
              "      <td>...</td>\n",
              "      <td>...</td>\n",
              "      <td>...</td>\n",
              "      <td>...</td>\n",
              "      <td>...</td>\n",
              "      <td>...</td>\n",
              "      <td>...</td>\n",
              "      <td>...</td>\n",
              "      <td>...</td>\n",
              "      <td>...</td>\n",
              "      <td>...</td>\n",
              "      <td>...</td>\n",
              "      <td>...</td>\n",
              "      <td>...</td>\n",
              "      <td>...</td>\n",
              "    </tr>\n",
              "    <tr>\n",
              "      <th>256</th>\n",
              "      <td>NaN</td>\n",
              "      <td>Inspiron 7378</td>\n",
              "      <td>2</td>\n",
              "      <td>IPS Panel Full HD / Touchscreen 1920x1080</td>\n",
              "      <td>Intel+Core+i7+7500U+2.7GHz</td>\n",
              "      <td>12</td>\n",
              "      <td>19.0</td>\n",
              "      <td>52.0</td>\n",
              "      <td>1.60</td>\n",
              "      <td>2.7</td>\n",
              "      <td>...</td>\n",
              "      <td>7500</td>\n",
              "      <td>0</td>\n",
              "      <td>0</td>\n",
              "      <td>0</td>\n",
              "      <td>0</td>\n",
              "      <td>0</td>\n",
              "      <td>0</td>\n",
              "      <td>0</td>\n",
              "      <td>1</td>\n",
              "      <td>0</td>\n",
              "    </tr>\n",
              "    <tr>\n",
              "      <th>257</th>\n",
              "      <td>NaN</td>\n",
              "      <td>Probook 470</td>\n",
              "      <td>1</td>\n",
              "      <td>Full HD 1920x1080</td>\n",
              "      <td>Intel+Core+i7+8550U+1.8GHz</td>\n",
              "      <td>8</td>\n",
              "      <td>19.0</td>\n",
              "      <td>39.0</td>\n",
              "      <td>2.50</td>\n",
              "      <td>1.8</td>\n",
              "      <td>...</td>\n",
              "      <td>8550</td>\n",
              "      <td>0</td>\n",
              "      <td>0</td>\n",
              "      <td>0</td>\n",
              "      <td>0</td>\n",
              "      <td>0</td>\n",
              "      <td>0</td>\n",
              "      <td>0</td>\n",
              "      <td>1</td>\n",
              "      <td>0</td>\n",
              "    </tr>\n",
              "    <tr>\n",
              "      <th>258</th>\n",
              "      <td>NaN</td>\n",
              "      <td>Precision 7720</td>\n",
              "      <td>5</td>\n",
              "      <td>Full HD 1920x1080</td>\n",
              "      <td>Intel+Core+i7+7820HQ+2.9GHz</td>\n",
              "      <td>16</td>\n",
              "      <td>19.0</td>\n",
              "      <td>83.0</td>\n",
              "      <td>3.42</td>\n",
              "      <td>2.9</td>\n",
              "      <td>...</td>\n",
              "      <td>7820</td>\n",
              "      <td>0</td>\n",
              "      <td>0</td>\n",
              "      <td>0</td>\n",
              "      <td>0</td>\n",
              "      <td>0</td>\n",
              "      <td>0</td>\n",
              "      <td>0</td>\n",
              "      <td>1</td>\n",
              "      <td>0</td>\n",
              "    </tr>\n",
              "    <tr>\n",
              "      <th>259</th>\n",
              "      <td>NaN</td>\n",
              "      <td>Thinkpad T470p</td>\n",
              "      <td>3</td>\n",
              "      <td>IPS Panel Full HD 2560x1440</td>\n",
              "      <td>Intel+Core+i7+7700HQ+2.8GHz</td>\n",
              "      <td>8</td>\n",
              "      <td>29.0</td>\n",
              "      <td>61.0</td>\n",
              "      <td>1.70</td>\n",
              "      <td>2.8</td>\n",
              "      <td>...</td>\n",
              "      <td>7700</td>\n",
              "      <td>0</td>\n",
              "      <td>0</td>\n",
              "      <td>0</td>\n",
              "      <td>0</td>\n",
              "      <td>0</td>\n",
              "      <td>0</td>\n",
              "      <td>0</td>\n",
              "      <td>1</td>\n",
              "      <td>0</td>\n",
              "    </tr>\n",
              "    <tr>\n",
              "      <th>260</th>\n",
              "      <td>NaN</td>\n",
              "      <td>Legion Y520-15IKBN</td>\n",
              "      <td>4</td>\n",
              "      <td>IPS Panel Full HD 1920x1080</td>\n",
              "      <td>Intel+Core+i7+7700HQ+2.8GHz</td>\n",
              "      <td>8</td>\n",
              "      <td>20.0</td>\n",
              "      <td>63.0</td>\n",
              "      <td>2.50</td>\n",
              "      <td>2.8</td>\n",
              "      <td>...</td>\n",
              "      <td>7700</td>\n",
              "      <td>0</td>\n",
              "      <td>0</td>\n",
              "      <td>0</td>\n",
              "      <td>0</td>\n",
              "      <td>0</td>\n",
              "      <td>0</td>\n",
              "      <td>0</td>\n",
              "      <td>1</td>\n",
              "      <td>0</td>\n",
              "    </tr>\n",
              "  </tbody>\n",
              "</table>\n",
              "<p>261 rows × 29 columns</p>\n",
              "</div>"
            ],
            "text/plain": [
              "     Company             Product  TypeName  \\\n",
              "0        NaN   Portege X30-D-10J         1   \n",
              "1        NaN   Spectre 13-V100nv         1   \n",
              "2        NaN   IdeaPad 310-15ABR         1   \n",
              "3        NaN  IdeaPad Y700-15ISK         1   \n",
              "4        NaN       EliteBook 820         3   \n",
              "..       ...                 ...       ...   \n",
              "256      NaN       Inspiron 7378         2   \n",
              "257      NaN         Probook 470         1   \n",
              "258      NaN      Precision 7720         5   \n",
              "259      NaN      Thinkpad T470p         3   \n",
              "260      NaN  Legion Y520-15IKBN         4   \n",
              "\n",
              "                              ScreenResolution                          Cpu  \\\n",
              "0                  IPS Panel Full HD 1920x1080   Intel+Core+i5+7200U+2.5GHz   \n",
              "1                  IPS Panel Full HD 1920x1080   Intel+Core+i5+7200U+2.5GHz   \n",
              "2                            Full HD 1920x1080  AMD+A10-Series+9600P+2.4GHz   \n",
              "3                  IPS Panel Full HD 1920x1080  Intel+Core+i7+6700HQ+2.6GHz   \n",
              "4                                     1366x768   Intel+Core+i5+6200U+2.3GHz   \n",
              "..                                         ...                          ...   \n",
              "256  IPS Panel Full HD / Touchscreen 1920x1080   Intel+Core+i7+7500U+2.7GHz   \n",
              "257                          Full HD 1920x1080   Intel+Core+i7+8550U+1.8GHz   \n",
              "258                          Full HD 1920x1080  Intel+Core+i7+7820HQ+2.9GHz   \n",
              "259                IPS Panel Full HD 2560x1440  Intel+Core+i7+7700HQ+2.8GHz   \n",
              "260                IPS Panel Full HD 1920x1080  Intel+Core+i7+7700HQ+2.8GHz   \n",
              "\n",
              "     Ram  Memory   Gpu  Weight  GHz  ...  Cpu_i7  Cpu_AMD_A  Cpu_AMD_Ryzen  \\\n",
              "0      8    19.0  52.0    1.05  2.5  ...       0          0              0   \n",
              "1      8    19.0  52.0    1.11  2.5  ...       0          0              0   \n",
              "2      6    10.0   NaN    2.40  2.4  ...       0     109600              0   \n",
              "3      8    10.0  50.0    2.60  2.6  ...    6700          0              0   \n",
              "4      4    19.0  48.0    1.26  2.3  ...       0          0              0   \n",
              "..   ...     ...   ...     ...  ...  ...     ...        ...            ...   \n",
              "256   12    19.0  52.0    1.60  2.7  ...    7500          0              0   \n",
              "257    8    19.0  39.0    2.50  1.8  ...    8550          0              0   \n",
              "258   16    19.0  83.0    3.42  2.9  ...    7820          0              0   \n",
              "259    8    29.0  61.0    1.70  2.8  ...    7700          0              0   \n",
              "260    8    20.0  63.0    2.50  2.8  ...    7700          0              0   \n",
              "\n",
              "     Cpu_AMD_FX  Cpu_AMD_E  Chrome OS  Linux  No OS  Windows  MacOS  \n",
              "0             0          0          0      0      0        1      0  \n",
              "1             0          0          0      0      0        1      0  \n",
              "2             0          0          0      0      0        1      0  \n",
              "3             0          0          0      0      0        1      0  \n",
              "4             0          0          0      0      0        1      0  \n",
              "..          ...        ...        ...    ...    ...      ...    ...  \n",
              "256           0          0          0      0      0        1      0  \n",
              "257           0          0          0      0      0        1      0  \n",
              "258           0          0          0      0      0        1      0  \n",
              "259           0          0          0      0      0        1      0  \n",
              "260           0          0          0      0      0        1      0  \n",
              "\n",
              "[261 rows x 29 columns]"
            ]
          },
          "metadata": {
            "tags": []
          },
          "execution_count": 61
        }
      ]
    },
    {
      "cell_type": "code",
      "metadata": {
        "id": "TNvndMLtgfyc"
      },
      "source": [
        "for feat in categorical_columns:\n",
        "    tempDf=train_df.groupby([feat])['price'].mean().sort_values().index\n",
        "\n",
        "    tempDf={k:i for i,k in enumerate(tempDf,0)}\n",
        "    train_df[feat]=train_df[feat].map(tempDf)\n",
        "    testDF[feat]=testDF[feat].map(temapDf)"
      ],
      "execution_count": null,
      "outputs": []
    },
    {
      "cell_type": "markdown",
      "metadata": {
        "id": "3BG1cg5bgfyc"
      },
      "source": [
        "## test train cpu칼럼과 os칼럼 처리 마침"
      ]
    },
    {
      "cell_type": "markdown",
      "metadata": {
        "id": "cu6e18APgfyd"
      },
      "source": [
        "### train  칼럼 수치형 'Inches','Ram','Weight', 'Inches', , 'Cpu', 'Ram','Weight', 'GHz', 'Cpu_Xeon', 'Cpu_CoreM', 'Cpu_Pentium2', 'Cpu_Pentium4', 'Cpu_Atom', 'Cpu_Celeron2', 'Cpu_Celeron4'\n",
        "### 범주형 'Memory', 'Gpu',ScreenResolution"
      ]
    },
    {
      "cell_type": "code",
      "metadata": {
        "id": "WFJBEn7Ngfyd"
      },
      "source": [
        "# from sklearn.preprocessing import LabelEncoder\n",
        "# def label_encode(data,col):\n",
        "#     label = data[col]\n",
        "#     label.unique()\n",
        "#     le = LabelEncoder()\n",
        "#     le.fit(label)\n",
        "#     label_encoded= le.transform(label)\n",
        "#     return label_encoded"
      ],
      "execution_count": null,
      "outputs": []
    },
    {
      "cell_type": "code",
      "metadata": {
        "id": "cGwuOTEigfye"
      },
      "source": [],
      "execution_count": null,
      "outputs": []
    },
    {
      "cell_type": "code",
      "metadata": {
        "id": "lYmRfjaygfyf"
      },
      "source": [
        "# tempOS = label_encode(train_df_company_refined,'OpSys')\n"
      ],
      "execution_count": null,
      "outputs": []
    },
    {
      "cell_type": "code",
      "metadata": {
        "id": "r6AS37FOgfyg"
      },
      "source": [
        "# tempDF=pd.DataFrame(tempOS,columns=['OS'])"
      ],
      "execution_count": null,
      "outputs": []
    },
    {
      "cell_type": "code",
      "metadata": {
        "scrolled": true,
        "id": "yFiRdrtwgfyg",
        "outputId": "df954938-aca8-4f9d-ac2c-b451087bfaa3"
      },
      "source": [
        "# pd.concat([train_df_company_refined,tempDF],axis=1)"
      ],
      "execution_count": null,
      "outputs": [
        {
          "output_type": "execute_result",
          "data": {
            "text/html": [
              "<div>\n",
              "<style scoped>\n",
              "    .dataframe tbody tr th:only-of-type {\n",
              "        vertical-align: middle;\n",
              "    }\n",
              "\n",
              "    .dataframe tbody tr th {\n",
              "        vertical-align: top;\n",
              "    }\n",
              "\n",
              "    .dataframe thead th {\n",
              "        text-align: right;\n",
              "    }\n",
              "</style>\n",
              "<table border=\"1\" class=\"dataframe\">\n",
              "  <thead>\n",
              "    <tr style=\"text-align: right;\">\n",
              "      <th></th>\n",
              "      <th>Company</th>\n",
              "      <th>TypeName</th>\n",
              "      <th>Inches</th>\n",
              "      <th>ScreenResolution</th>\n",
              "      <th>Cpu</th>\n",
              "      <th>Ram</th>\n",
              "      <th>Memory</th>\n",
              "      <th>Gpu</th>\n",
              "      <th>OpSys</th>\n",
              "      <th>Weight</th>\n",
              "      <th>...</th>\n",
              "      <th>Cpu_Celeron2</th>\n",
              "      <th>Cpu_Celeron4</th>\n",
              "      <th>Cpu_i3</th>\n",
              "      <th>Cpu_i5</th>\n",
              "      <th>Cpu_i7</th>\n",
              "      <th>Cpu_AMD_A</th>\n",
              "      <th>Cpu_AMD_Ryzen</th>\n",
              "      <th>Cpu_AMD_FX</th>\n",
              "      <th>Cpu_AMD_E</th>\n",
              "      <th>OS</th>\n",
              "    </tr>\n",
              "  </thead>\n",
              "  <tbody>\n",
              "    <tr>\n",
              "      <th>0</th>\n",
              "      <td>HP</td>\n",
              "      <td>Notebook</td>\n",
              "      <td>15.6</td>\n",
              "      <td>1366x768</td>\n",
              "      <td>Intel+Core+i5+7200U+2.5GHz</td>\n",
              "      <td>4.0</td>\n",
              "      <td>500GB HDD</td>\n",
              "      <td>Intel HD Graphics 620</td>\n",
              "      <td>No OS</td>\n",
              "      <td>1.86</td>\n",
              "      <td>...</td>\n",
              "      <td>0.0</td>\n",
              "      <td>0.0</td>\n",
              "      <td>0.0</td>\n",
              "      <td>7200.0</td>\n",
              "      <td>0.0</td>\n",
              "      <td>0.0</td>\n",
              "      <td>0.0</td>\n",
              "      <td>0.0</td>\n",
              "      <td>0.0</td>\n",
              "      <td>4.0</td>\n",
              "    </tr>\n",
              "    <tr>\n",
              "      <th>1</th>\n",
              "      <td>Asus</td>\n",
              "      <td>Notebook</td>\n",
              "      <td>15.6</td>\n",
              "      <td>Full HD 1920x1080</td>\n",
              "      <td>Intel+Celeron+Dual+Core+N3350+1.1GHz</td>\n",
              "      <td>4.0</td>\n",
              "      <td>1TB HDD</td>\n",
              "      <td>Intel HD Graphics 500</td>\n",
              "      <td>Windows 10</td>\n",
              "      <td>2.00</td>\n",
              "      <td>...</td>\n",
              "      <td>3350.0</td>\n",
              "      <td>0.0</td>\n",
              "      <td>0.0</td>\n",
              "      <td>0.0</td>\n",
              "      <td>0.0</td>\n",
              "      <td>0.0</td>\n",
              "      <td>0.0</td>\n",
              "      <td>0.0</td>\n",
              "      <td>0.0</td>\n",
              "      <td>5.0</td>\n",
              "    </tr>\n",
              "    <tr>\n",
              "      <th>2</th>\n",
              "      <td>HP</td>\n",
              "      <td>Notebook</td>\n",
              "      <td>15.6</td>\n",
              "      <td>1366x768</td>\n",
              "      <td>Intel+Core+i7+6500U+2.5GHz</td>\n",
              "      <td>6.0</td>\n",
              "      <td>1TB HDD</td>\n",
              "      <td>AMD Radeon R5 M330</td>\n",
              "      <td>Windows 10</td>\n",
              "      <td>2.19</td>\n",
              "      <td>...</td>\n",
              "      <td>0.0</td>\n",
              "      <td>0.0</td>\n",
              "      <td>0.0</td>\n",
              "      <td>0.0</td>\n",
              "      <td>6500.0</td>\n",
              "      <td>0.0</td>\n",
              "      <td>0.0</td>\n",
              "      <td>0.0</td>\n",
              "      <td>0.0</td>\n",
              "      <td>5.0</td>\n",
              "    </tr>\n",
              "    <tr>\n",
              "      <th>3</th>\n",
              "      <td>Dell</td>\n",
              "      <td>Gaming</td>\n",
              "      <td>15.6</td>\n",
              "      <td>IPS Panel Touchscreen / 4K Ultra HD 3840x2160</td>\n",
              "      <td>Intel+Core+i7+6700HQ+2.6GHz</td>\n",
              "      <td>16.0</td>\n",
              "      <td>128GB SSD +  1TB HDD</td>\n",
              "      <td>Nvidia GeForce GTX 960M</td>\n",
              "      <td>Windows 10</td>\n",
              "      <td>2.72</td>\n",
              "      <td>...</td>\n",
              "      <td>0.0</td>\n",
              "      <td>0.0</td>\n",
              "      <td>0.0</td>\n",
              "      <td>0.0</td>\n",
              "      <td>6700.0</td>\n",
              "      <td>0.0</td>\n",
              "      <td>0.0</td>\n",
              "      <td>0.0</td>\n",
              "      <td>0.0</td>\n",
              "      <td>5.0</td>\n",
              "    </tr>\n",
              "    <tr>\n",
              "      <th>4</th>\n",
              "      <td>Razer</td>\n",
              "      <td>Ultrabook</td>\n",
              "      <td>12.5</td>\n",
              "      <td>IPS Panel 4K Ultra HD / Touchscreen 3840x2160</td>\n",
              "      <td>Intel+Core+i7+7500U+2.5GHz</td>\n",
              "      <td>16.0</td>\n",
              "      <td>512GB SSD</td>\n",
              "      <td>Intel HD Graphics 620</td>\n",
              "      <td>Windows 10</td>\n",
              "      <td>1.29</td>\n",
              "      <td>...</td>\n",
              "      <td>0.0</td>\n",
              "      <td>0.0</td>\n",
              "      <td>0.0</td>\n",
              "      <td>0.0</td>\n",
              "      <td>7500.0</td>\n",
              "      <td>0.0</td>\n",
              "      <td>0.0</td>\n",
              "      <td>0.0</td>\n",
              "      <td>0.0</td>\n",
              "      <td>5.0</td>\n",
              "    </tr>\n",
              "    <tr>\n",
              "      <th>...</th>\n",
              "      <td>...</td>\n",
              "      <td>...</td>\n",
              "      <td>...</td>\n",
              "      <td>...</td>\n",
              "      <td>...</td>\n",
              "      <td>...</td>\n",
              "      <td>...</td>\n",
              "      <td>...</td>\n",
              "      <td>...</td>\n",
              "      <td>...</td>\n",
              "      <td>...</td>\n",
              "      <td>...</td>\n",
              "      <td>...</td>\n",
              "      <td>...</td>\n",
              "      <td>...</td>\n",
              "      <td>...</td>\n",
              "      <td>...</td>\n",
              "      <td>...</td>\n",
              "      <td>...</td>\n",
              "      <td>...</td>\n",
              "      <td>...</td>\n",
              "    </tr>\n",
              "    <tr>\n",
              "      <th>1037</th>\n",
              "      <td>Acer</td>\n",
              "      <td>Notebook</td>\n",
              "      <td>15.6</td>\n",
              "      <td>Full HD 1920x1080</td>\n",
              "      <td>Intel+Core+i5+7200U+2.5GHz</td>\n",
              "      <td>8.0</td>\n",
              "      <td>256GB SSD +  1TB HDD</td>\n",
              "      <td>Nvidia GeForce GTX 950M</td>\n",
              "      <td>Windows 10</td>\n",
              "      <td>2.40</td>\n",
              "      <td>...</td>\n",
              "      <td>0.0</td>\n",
              "      <td>0.0</td>\n",
              "      <td>0.0</td>\n",
              "      <td>7200.0</td>\n",
              "      <td>0.0</td>\n",
              "      <td>0.0</td>\n",
              "      <td>0.0</td>\n",
              "      <td>0.0</td>\n",
              "      <td>0.0</td>\n",
              "      <td>NaN</td>\n",
              "    </tr>\n",
              "    <tr>\n",
              "      <th>1038</th>\n",
              "      <td>HP</td>\n",
              "      <td>Notebook</td>\n",
              "      <td>15.6</td>\n",
              "      <td>1366x768</td>\n",
              "      <td>Intel+Core+i7+7500U+2.7GHz</td>\n",
              "      <td>8.0</td>\n",
              "      <td>2TB HDD</td>\n",
              "      <td>Intel HD Graphics 620</td>\n",
              "      <td>Windows 10</td>\n",
              "      <td>2.04</td>\n",
              "      <td>...</td>\n",
              "      <td>0.0</td>\n",
              "      <td>0.0</td>\n",
              "      <td>0.0</td>\n",
              "      <td>0.0</td>\n",
              "      <td>7500.0</td>\n",
              "      <td>0.0</td>\n",
              "      <td>0.0</td>\n",
              "      <td>0.0</td>\n",
              "      <td>0.0</td>\n",
              "      <td>NaN</td>\n",
              "    </tr>\n",
              "    <tr>\n",
              "      <th>1039</th>\n",
              "      <td>HP</td>\n",
              "      <td>Notebook</td>\n",
              "      <td>15.6</td>\n",
              "      <td>Full HD 1920x1080</td>\n",
              "      <td>AMD+A9-Series+9410+2.9GHz</td>\n",
              "      <td>6.0</td>\n",
              "      <td>1.0TB Hybrid</td>\n",
              "      <td>AMD Radeon R7 M440</td>\n",
              "      <td>Windows 10</td>\n",
              "      <td>2.04</td>\n",
              "      <td>...</td>\n",
              "      <td>0.0</td>\n",
              "      <td>0.0</td>\n",
              "      <td>0.0</td>\n",
              "      <td>0.0</td>\n",
              "      <td>0.0</td>\n",
              "      <td>99410.0</td>\n",
              "      <td>0.0</td>\n",
              "      <td>0.0</td>\n",
              "      <td>0.0</td>\n",
              "      <td>NaN</td>\n",
              "    </tr>\n",
              "    <tr>\n",
              "      <th>1040</th>\n",
              "      <td>Lenovo</td>\n",
              "      <td>Notebook</td>\n",
              "      <td>15.6</td>\n",
              "      <td>IPS Panel Full HD 1920x1080</td>\n",
              "      <td>Intel+Core+i5+7200U+2.5GHz</td>\n",
              "      <td>8.0</td>\n",
              "      <td>1TB HDD</td>\n",
              "      <td>Intel HD Graphics 620</td>\n",
              "      <td>Windows 10</td>\n",
              "      <td>2.30</td>\n",
              "      <td>...</td>\n",
              "      <td>0.0</td>\n",
              "      <td>0.0</td>\n",
              "      <td>0.0</td>\n",
              "      <td>7200.0</td>\n",
              "      <td>0.0</td>\n",
              "      <td>0.0</td>\n",
              "      <td>0.0</td>\n",
              "      <td>0.0</td>\n",
              "      <td>0.0</td>\n",
              "      <td>NaN</td>\n",
              "    </tr>\n",
              "    <tr>\n",
              "      <th>1041</th>\n",
              "      <td>Lenovo</td>\n",
              "      <td>2 in 1 Convertible</td>\n",
              "      <td>10.1</td>\n",
              "      <td>IPS Panel Touchscreen 1920x1200</td>\n",
              "      <td>Intel+Atom+x5-Z8550+1.44GHz</td>\n",
              "      <td>4.0</td>\n",
              "      <td>64GB Flash Storage</td>\n",
              "      <td>Intel HD Graphics 400</td>\n",
              "      <td>Windows 10</td>\n",
              "      <td>0.69</td>\n",
              "      <td>...</td>\n",
              "      <td>0.0</td>\n",
              "      <td>0.0</td>\n",
              "      <td>0.0</td>\n",
              "      <td>0.0</td>\n",
              "      <td>0.0</td>\n",
              "      <td>0.0</td>\n",
              "      <td>0.0</td>\n",
              "      <td>0.0</td>\n",
              "      <td>8550.0</td>\n",
              "      <td>NaN</td>\n",
              "    </tr>\n",
              "  </tbody>\n",
              "</table>\n",
              "<p>1042 rows × 27 columns</p>\n",
              "</div>"
            ],
            "text/plain": [
              "     Company            TypeName  Inches  \\\n",
              "0         HP            Notebook    15.6   \n",
              "1       Asus            Notebook    15.6   \n",
              "2         HP            Notebook    15.6   \n",
              "3       Dell              Gaming    15.6   \n",
              "4      Razer           Ultrabook    12.5   \n",
              "...      ...                 ...     ...   \n",
              "1037    Acer            Notebook    15.6   \n",
              "1038      HP            Notebook    15.6   \n",
              "1039      HP            Notebook    15.6   \n",
              "1040  Lenovo            Notebook    15.6   \n",
              "1041  Lenovo  2 in 1 Convertible    10.1   \n",
              "\n",
              "                                   ScreenResolution  \\\n",
              "0                                          1366x768   \n",
              "1                                 Full HD 1920x1080   \n",
              "2                                          1366x768   \n",
              "3     IPS Panel Touchscreen / 4K Ultra HD 3840x2160   \n",
              "4     IPS Panel 4K Ultra HD / Touchscreen 3840x2160   \n",
              "...                                             ...   \n",
              "1037                              Full HD 1920x1080   \n",
              "1038                                       1366x768   \n",
              "1039                              Full HD 1920x1080   \n",
              "1040                    IPS Panel Full HD 1920x1080   \n",
              "1041                IPS Panel Touchscreen 1920x1200   \n",
              "\n",
              "                                       Cpu   Ram                Memory  \\\n",
              "0               Intel+Core+i5+7200U+2.5GHz   4.0             500GB HDD   \n",
              "1     Intel+Celeron+Dual+Core+N3350+1.1GHz   4.0               1TB HDD   \n",
              "2               Intel+Core+i7+6500U+2.5GHz   6.0               1TB HDD   \n",
              "3              Intel+Core+i7+6700HQ+2.6GHz  16.0  128GB SSD +  1TB HDD   \n",
              "4               Intel+Core+i7+7500U+2.5GHz  16.0             512GB SSD   \n",
              "...                                    ...   ...                   ...   \n",
              "1037            Intel+Core+i5+7200U+2.5GHz   8.0  256GB SSD +  1TB HDD   \n",
              "1038            Intel+Core+i7+7500U+2.7GHz   8.0               2TB HDD   \n",
              "1039             AMD+A9-Series+9410+2.9GHz   6.0          1.0TB Hybrid   \n",
              "1040            Intel+Core+i5+7200U+2.5GHz   8.0               1TB HDD   \n",
              "1041           Intel+Atom+x5-Z8550+1.44GHz   4.0    64GB Flash Storage   \n",
              "\n",
              "                          Gpu       OpSys  Weight  ...  Cpu_Celeron2  \\\n",
              "0       Intel HD Graphics 620       No OS    1.86  ...           0.0   \n",
              "1       Intel HD Graphics 500  Windows 10    2.00  ...        3350.0   \n",
              "2          AMD Radeon R5 M330  Windows 10    2.19  ...           0.0   \n",
              "3     Nvidia GeForce GTX 960M  Windows 10    2.72  ...           0.0   \n",
              "4       Intel HD Graphics 620  Windows 10    1.29  ...           0.0   \n",
              "...                       ...         ...     ...  ...           ...   \n",
              "1037  Nvidia GeForce GTX 950M  Windows 10    2.40  ...           0.0   \n",
              "1038    Intel HD Graphics 620  Windows 10    2.04  ...           0.0   \n",
              "1039       AMD Radeon R7 M440  Windows 10    2.04  ...           0.0   \n",
              "1040    Intel HD Graphics 620  Windows 10    2.30  ...           0.0   \n",
              "1041    Intel HD Graphics 400  Windows 10    0.69  ...           0.0   \n",
              "\n",
              "      Cpu_Celeron4  Cpu_i3  Cpu_i5  Cpu_i7  Cpu_AMD_A  Cpu_AMD_Ryzen  \\\n",
              "0              0.0     0.0  7200.0     0.0        0.0            0.0   \n",
              "1              0.0     0.0     0.0     0.0        0.0            0.0   \n",
              "2              0.0     0.0     0.0  6500.0        0.0            0.0   \n",
              "3              0.0     0.0     0.0  6700.0        0.0            0.0   \n",
              "4              0.0     0.0     0.0  7500.0        0.0            0.0   \n",
              "...            ...     ...     ...     ...        ...            ...   \n",
              "1037           0.0     0.0  7200.0     0.0        0.0            0.0   \n",
              "1038           0.0     0.0     0.0  7500.0        0.0            0.0   \n",
              "1039           0.0     0.0     0.0     0.0    99410.0            0.0   \n",
              "1040           0.0     0.0  7200.0     0.0        0.0            0.0   \n",
              "1041           0.0     0.0     0.0     0.0        0.0            0.0   \n",
              "\n",
              "      Cpu_AMD_FX  Cpu_AMD_E   OS  \n",
              "0            0.0        0.0  4.0  \n",
              "1            0.0        0.0  5.0  \n",
              "2            0.0        0.0  5.0  \n",
              "3            0.0        0.0  5.0  \n",
              "4            0.0        0.0  5.0  \n",
              "...          ...        ...  ...  \n",
              "1037         0.0        0.0  NaN  \n",
              "1038         0.0        0.0  NaN  \n",
              "1039         0.0        0.0  NaN  \n",
              "1040         0.0        0.0  NaN  \n",
              "1041         0.0     8550.0  NaN  \n",
              "\n",
              "[1042 rows x 27 columns]"
            ]
          },
          "metadata": {
            "tags": []
          },
          "execution_count": 37
        }
      ]
    },
    {
      "cell_type": "code",
      "metadata": {
        "id": "lJ-gbJcHgfyh"
      },
      "source": [
        "featureScaleTarget = ['TypeName','Inches','ScreenResolution','Cpu','Ram','Memory','Gpu',]"
      ],
      "execution_count": null,
      "outputs": []
    },
    {
      "cell_type": "code",
      "metadata": {
        "id": "8XMfuEF7gfym"
      },
      "source": [
        "for feat in categorical_columns"
      ],
      "execution_count": null,
      "outputs": []
    },
    {
      "cell_type": "markdown",
      "metadata": {
        "run_control": {
          "marked": true
        },
        "id": "AWO4xFdggfyn"
      },
      "source": [
        "# Train Test Splits, Cross Validation, and Linear Regression"
      ]
    },
    {
      "cell_type": "markdown",
      "metadata": {
        "run_control": {
          "marked": true
        },
        "id": "3nvzp3JCgfyn"
      },
      "source": [
        "## Question 2\n",
        "As discussed in the lecture, a significant challenge, particularly when dealing with data that have many columns, is ensuring each column gets encoded correctly.\n",
        "This is particularly true with data columns that are ordered categoricals (ordinals) vs unordered categoricals. Unordered categoricals should be one-hot encoded, however this can significantly increase the number of features and creates features that are highly correlated with each other.\n",
        "Determine how many total features would be present, relative to what currently exists, if all string (object) features are one-hot encoded. Recall that the total number of one-hot encoded columns is `n-1`, where `n` is the number of categories."
      ]
    },
    {
      "cell_type": "code",
      "metadata": {
        "run_control": {
          "marked": true
        },
        "id": "LosJdoY4gfyo"
      },
      "source": [
        "import numpy as np\n",
        "mask = train_df_no_nan_no_test.dtypes == np.object\n",
        "categorical_cols = train_df_no_nan_no_test.columns[mask]\n",
        "categorical_cols"
      ],
      "execution_count": null,
      "outputs": []
    },
    {
      "cell_type": "code",
      "metadata": {
        "id": "qdsjd8Tigfyo",
        "outputId": "e7db8e44-95a4-451c-acba-0fbe9f21c1b4"
      },
      "source": [
        "train_df_no_nan_no_test.columns"
      ],
      "execution_count": null,
      "outputs": [
        {
          "output_type": "execute_result",
          "data": {
            "text/plain": [
              "Index(['Product', 'Cpu', 'Ram', 'Memory', 'Gpu', 'OpSys', 'price'], dtype='object')"
            ]
          },
          "metadata": {
            "tags": []
          },
          "execution_count": 20
        }
      ]
    },
    {
      "cell_type": "code",
      "metadata": {
        "id": "t2OAtDmagfyo",
        "outputId": "0c8aefff-0dae-4031-98ba-6dab8a3077b1"
      },
      "source": [
        "categorical_cols"
      ],
      "execution_count": null,
      "outputs": [
        {
          "output_type": "execute_result",
          "data": {
            "text/plain": [
              "Index(['Product', 'Cpu', 'Ram', 'Memory', 'Gpu', 'OpSys'], dtype='object')"
            ]
          },
          "metadata": {
            "tags": []
          },
          "execution_count": 19
        }
      ]
    },
    {
      "cell_type": "markdown",
      "metadata": {
        "id": "aB3FnRdXgfyp"
      },
      "source": [
        "## 결측치부터 채우고 시작하자"
      ]
    },
    {
      "cell_type": "code",
      "metadata": {
        "id": "iw2VS5Bsgfyp"
      },
      "source": [
        "indexI = list()\n",
        "for i in indexI:\n",
        "    train_df_no_nan_no_test['Inches'].median()"
      ],
      "execution_count": null,
      "outputs": []
    },
    {
      "cell_type": "markdown",
      "metadata": {
        "id": "lS4lrr5Kgfyp"
      },
      "source": [
        "## 삭제할 칼럼 지정할 때,"
      ]
    },
    {
      "cell_type": "code",
      "metadata": {
        "id": "d6BoZFVfgfyp"
      },
      "source": [
        "Y=train_df_no_nan_no_test['price']\n",
        "# inches 와 weight은 제거\n",
        "drpTarget=['ScreenResolution','Weight','TypeName','Company']\n",
        "train_df_r=train_df_no_nan_no_test.drop(columns=drpTarget,inplace=False)"
      ],
      "execution_count": null,
      "outputs": []
    },
    {
      "cell_type": "code",
      "metadata": {
        "run_control": {
          "marked": true
        },
        "id": "ZNIGZ8p7gfyp",
        "outputId": "564a34ea-a642-43f4-9df3-beda0ec30f85"
      },
      "source": [
        "# Determine how many extra columns would be created\n",
        "num_ohc_cols = (train_df_no_nan_no_test[categorical_cols]\n",
        "                .apply(lambda x: x.nunique())\n",
        "                .sort_values(ascending=False))\n",
        "\n",
        "# No need to encode if there is only one value\n",
        "small_num_ohc_cols = num_ohc_cols.loc[num_ohc_cols>1]\n",
        "\n",
        "# Number of one-hot columns is one less than the number of categories\n",
        "small_num_ohc_cols -= 1\n",
        "\n",
        "# label encoding을 한다면 774개의 새로운 칼럼이 발생할 예정\n",
        "small_num_ohc_cols.sum()"
      ],
      "execution_count": null,
      "outputs": [
        {
          "output_type": "error",
          "ename": "NameError",
          "evalue": "name 'train_df_no_nan_no_test' is not defined",
          "traceback": [
            "\u001b[1;31m---------------------------------------------------------------------------\u001b[0m",
            "\u001b[1;31mNameError\u001b[0m                                 Traceback (most recent call last)",
            "\u001b[1;32m<ipython-input-25-a018f877c0d6>\u001b[0m in \u001b[0;36m<module>\u001b[1;34m\u001b[0m\n\u001b[0;32m      1\u001b[0m \u001b[1;31m# Determine how many extra columns would be created\u001b[0m\u001b[1;33m\u001b[0m\u001b[1;33m\u001b[0m\u001b[1;33m\u001b[0m\u001b[0m\n\u001b[1;32m----> 2\u001b[1;33m num_ohc_cols = (train_df_no_nan_no_test[categorical_cols]\n\u001b[0m\u001b[0;32m      3\u001b[0m                 \u001b[1;33m.\u001b[0m\u001b[0mapply\u001b[0m\u001b[1;33m(\u001b[0m\u001b[1;32mlambda\u001b[0m \u001b[0mx\u001b[0m\u001b[1;33m:\u001b[0m \u001b[0mx\u001b[0m\u001b[1;33m.\u001b[0m\u001b[0mnunique\u001b[0m\u001b[1;33m(\u001b[0m\u001b[1;33m)\u001b[0m\u001b[1;33m)\u001b[0m\u001b[1;33m\u001b[0m\u001b[1;33m\u001b[0m\u001b[0m\n\u001b[0;32m      4\u001b[0m                 .sort_values(ascending=False))\n\u001b[0;32m      5\u001b[0m \u001b[1;33m\u001b[0m\u001b[0m\n",
            "\u001b[1;31mNameError\u001b[0m: name 'train_df_no_nan_no_test' is not defined"
          ]
        }
      ]
    },
    {
      "cell_type": "markdown",
      "metadata": {
        "run_control": {
          "marked": true
        },
        "id": "PgzDOGnigfyq"
      },
      "source": [
        "## Question 3\n",
        "\n",
        "Let's create a new data set where all of the above categorical features will be one-hot encoded. We can fit this data and see how it affects the results.\n",
        "\n",
        "* Used the dataframe `.copy()` method to create a completely separate copy of the dataframe for one-hot encoding\n",
        "* On this new dataframe, one-hot encode each of the appropriate columns and add it back to the dataframe. Be sure to drop the original column.\n",
        "* For the data that are not one-hot encoded, drop the columns that are string categoricals.\n",
        "\n",
        "For the first step, numerically encoding the string categoricals, either Scikit-learn;s `LabelEncoder` or `DictVectorizer` can be used. However, the former is probably easier since it doesn't require specifying a numerical value for each category, and we are going to one-hot encode all of the numerical values anyway. (Can you think of a time when `DictVectorizer` might be preferred?)"
      ]
    },
    {
      "cell_type": "code",
      "metadata": {
        "run_control": {
          "marked": true
        },
        "id": "1HZRp-_Wgfyr",
        "outputId": "60868e39-6c10-4e64-cacb-4e495972a7fc"
      },
      "source": [
        "from sklearn.preprocessing import OneHotEncoder, LabelEncoder\n",
        "\n",
        "# Copy of the data\n",
        "data_ohc = data.copy()\n",
        "\n",
        "# The encoders\n",
        "le = LabelEncoder()\n",
        "ohc = OneHotEncoder()\n",
        "for col in num_ohc_cols.index:\n",
        "    # Integer encode the string categories\n",
        "    dat = le.fit_transform(data_ohc[col]).astype(np.int)\n",
        "    # Remove the original column from the dataframe\n",
        "    data_ohc = data_ohc.drop(col, axis=1)\n",
        "    # One hot encode the data--this returns a sparse array\n",
        "    new_dat = ohc.fit_transform(dat.reshape(-1,1))\n",
        "    # Create unique column names\n",
        "    n_cols = new_dat.shape[1]\n",
        "    col_names = ['_'.join([col, str(x)]) for x in range(n_cols)]\n",
        "    # Create the new dataframe\n",
        "    new_df = pd.DataFrame(new_dat.toarray(),\n",
        "                          index=data_ohc.index,\n",
        "                          columns=col_names)\n",
        "    # Append the new data to the dataframe\n",
        "    data_ohc = pd.concat([data_ohc, new_df], axis=1)"
      ],
      "execution_count": null,
      "outputs": [
        {
          "output_type": "error",
          "ename": "NameError",
          "evalue": "name 'data' is not defined",
          "traceback": [
            "\u001b[1;31m---------------------------------------------------------------------------\u001b[0m",
            "\u001b[1;31mNameError\u001b[0m                                 Traceback (most recent call last)",
            "\u001b[1;32m<ipython-input-15-dab3b69b18cb>\u001b[0m in \u001b[0;36m<module>\u001b[1;34m\u001b[0m\n\u001b[0;32m      2\u001b[0m \u001b[1;33m\u001b[0m\u001b[0m\n\u001b[0;32m      3\u001b[0m \u001b[1;31m# Copy of the data\u001b[0m\u001b[1;33m\u001b[0m\u001b[1;33m\u001b[0m\u001b[1;33m\u001b[0m\u001b[0m\n\u001b[1;32m----> 4\u001b[1;33m \u001b[0mdata_ohc\u001b[0m \u001b[1;33m=\u001b[0m \u001b[0mdata\u001b[0m\u001b[1;33m.\u001b[0m\u001b[0mcopy\u001b[0m\u001b[1;33m(\u001b[0m\u001b[1;33m)\u001b[0m\u001b[1;33m\u001b[0m\u001b[1;33m\u001b[0m\u001b[0m\n\u001b[0m\u001b[0;32m      5\u001b[0m \u001b[1;33m\u001b[0m\u001b[0m\n\u001b[0;32m      6\u001b[0m \u001b[1;31m# The encoders\u001b[0m\u001b[1;33m\u001b[0m\u001b[1;33m\u001b[0m\u001b[1;33m\u001b[0m\u001b[0m\n",
            "\u001b[1;31mNameError\u001b[0m: name 'data' is not defined"
          ]
        }
      ]
    },
    {
      "cell_type": "code",
      "metadata": {
        "run_control": {
          "marked": true
        },
        "id": "TUlthpp2gfyr",
        "outputId": "ac13dfa8-f630-44bd-c1fb-e6914b56233d"
      },
      "source": [
        "# Column difference is as calculated above\n",
        "data_ohc.shape[1] - data.shape[1]"
      ],
      "execution_count": null,
      "outputs": [
        {
          "output_type": "execute_result",
          "data": {
            "text/plain": [
              "215"
            ]
          },
          "metadata": {
            "tags": []
          },
          "execution_count": 8
        }
      ]
    },
    {
      "cell_type": "code",
      "metadata": {
        "run_control": {
          "marked": true
        },
        "id": "K-lQj-INgfyr",
        "outputId": "853d810a-7156-496d-c32f-bd2f3bfd186f"
      },
      "source": [
        "print(data.shape[1])\n",
        "\n",
        "# Remove the string columns from the dataframe\n",
        "data = data.drop(num_ohc_cols.index, axis=1)\n",
        "\n",
        "print(data.shape[1])"
      ],
      "execution_count": null,
      "outputs": [
        {
          "output_type": "stream",
          "text": [
            "80\n",
            "37\n"
          ],
          "name": "stdout"
        }
      ]
    },
    {
      "cell_type": "markdown",
      "metadata": {
        "run_control": {
          "marked": true
        },
        "id": "3HP2xL1Ngfys"
      },
      "source": [
        "## Question 4\n",
        "\n",
        "* Create train and test splits of both data sets. To ensure the data gets split the same way, use the same `random_state` in each of the two splits.\n",
        "* For each data set, fit a basic linear regression model on the training data.\n",
        "* Calculate the mean squared error on both the train and test sets for the respective models. Which model produces smaller error on the test data and why?"
      ]
    },
    {
      "cell_type": "code",
      "metadata": {
        "run_control": {
          "marked": true
        },
        "id": "KopS080Fgfys"
      },
      "source": [
        "from sklearn.model_selection import train_test_split\n",
        "\n",
        "y_col = 'SalePrice'\n",
        "\n",
        "# Split the data that is not one-hot encoded\n",
        "feature_cols = [x for x in data.columns if x != y_col]\n",
        "X_data = data[feature_cols]\n",
        "y_data = data[y_col]\n",
        "\n",
        "X_train, X_test, y_train, y_test = train_test_split(X_data, y_data,\n",
        "                                                    test_size=0.3, random_state=42)\n",
        "# Split the data that is one-hot encoded\n",
        "feature_cols = [x for x in data_ohc.columns if x != y_col]\n",
        "X_data_ohc = data_ohc[feature_cols]\n",
        "y_data_ohc = data_ohc[y_col]\n",
        "\n",
        "X_train_ohc, X_test_ohc, y_train_ohc, y_test_ohc = train_test_split(X_data_ohc, y_data_ohc,\n",
        "                                                    test_size=0.3, random_state=42)"
      ],
      "execution_count": null,
      "outputs": []
    },
    {
      "cell_type": "code",
      "metadata": {
        "run_control": {
          "marked": true
        },
        "scrolled": false,
        "id": "nQe3ya7Tgfys",
        "outputId": "a649052e-9b87-4afb-f5f7-a2f3e8538ac0"
      },
      "source": [
        "# Compare the indices to ensure they are identical\n",
        "(X_train_ohc.index == X_train.index).all()"
      ],
      "execution_count": null,
      "outputs": [
        {
          "output_type": "execute_result",
          "data": {
            "text/plain": [
              "True"
            ]
          },
          "metadata": {
            "tags": []
          },
          "execution_count": 11
        }
      ]
    },
    {
      "cell_type": "markdown",
      "metadata": {
        "id": "NpHSNebTgfys"
      },
      "source": [
        "## 기존 셀(선형 회귀)을 실행하지 않고 Lasso객체 만들고 fit하는 다음셀로 넘어가서 실행해주세요"
      ]
    },
    {
      "cell_type": "code",
      "metadata": {
        "run_control": {
          "marked": true
        },
        "scrolled": true,
        "id": "4Xa_P0bVgfyt",
        "outputId": "3226a896-e013-4a82-9861-0683f8129d08"
      },
      "source": [
        "from sklearn.linear_model import LinearRegression\n",
        "from sklearn.metrics import mean_squared_error\n",
        "\n",
        "LR = LinearRegression()\n",
        "\n",
        "# Storage for error values\n",
        "error_df = list()\n",
        "\n",
        "# Data that have not been one-hot encoded\n",
        "LR = LR.fit(X_train, y_train)\n",
        "y_train_pred = LR.predict(X_train)\n",
        "y_test_pred = LR.predict(X_test)\n",
        "\n",
        "error_df.append(pd.Series({'train': mean_squared_error(y_train, y_train_pred),\n",
        "                           'test' : mean_squared_error(y_test,  y_test_pred)},\n",
        "                           name='no enc'))\n",
        "\n",
        "# Data that have been one-hot encoded\n",
        "LR = LR.fit(X_train_ohc, y_train_ohc)\n",
        "y_train_ohc_pred = LR.predict(X_train_ohc)\n",
        "y_test_ohc_pred = LR.predict(X_test_ohc)\n",
        "\n",
        "error_df.append(pd.Series({'train': mean_squared_error(y_train_ohc, y_train_ohc_pred),\n",
        "                           'test' : mean_squared_error(y_test_ohc,  y_test_ohc_pred)},\n",
        "                          name='one-hot enc'))\n",
        "\n",
        "# Assemble the results\n",
        "error_df = pd.concat(error_df, axis=1)\n",
        "error_df\n"
      ],
      "execution_count": null,
      "outputs": [
        {
          "output_type": "execute_result",
          "data": {
            "text/html": [
              "<div>\n",
              "<style scoped>\n",
              "    .dataframe tbody tr th:only-of-type {\n",
              "        vertical-align: middle;\n",
              "    }\n",
              "\n",
              "    .dataframe tbody tr th {\n",
              "        vertical-align: top;\n",
              "    }\n",
              "\n",
              "    .dataframe thead th {\n",
              "        text-align: right;\n",
              "    }\n",
              "</style>\n",
              "<table border=\"1\" class=\"dataframe\">\n",
              "  <thead>\n",
              "    <tr style=\"text-align: right;\">\n",
              "      <th></th>\n",
              "      <th>no enc</th>\n",
              "      <th>one-hot enc</th>\n",
              "    </tr>\n",
              "  </thead>\n",
              "  <tbody>\n",
              "    <tr>\n",
              "      <th>train</th>\n",
              "      <td>1.131507e+09</td>\n",
              "      <td>3.177301e+08</td>\n",
              "    </tr>\n",
              "    <tr>\n",
              "      <th>test</th>\n",
              "      <td>1.372182e+09</td>\n",
              "      <td>1.887417e+19</td>\n",
              "    </tr>\n",
              "  </tbody>\n",
              "</table>\n",
              "</div>"
            ],
            "text/plain": [
              "             no enc   one-hot enc\n",
              "train  1.131507e+09  3.177301e+08\n",
              "test   1.372182e+09  1.887417e+19"
            ]
          },
          "metadata": {
            "tags": []
          },
          "execution_count": 14
        }
      ]
    },
    {
      "cell_type": "markdown",
      "metadata": {
        "id": "6eHcpQG4gfyt"
      },
      "source": [
        "## L1 규제를 적용하기 위한 사이킷런의 Lasso"
      ]
    },
    {
      "cell_type": "code",
      "metadata": {
        "scrolled": true,
        "id": "EeYgyevMgfyu",
        "outputId": "69699852-5f95-486f-a191-9ba96c974044"
      },
      "source": [
        "from sklearn.linear_model import Lasso\n",
        "from sklearn.metrics import mean_squared_error\n",
        "# determine RMSE for lasso regression model with alpha = 0.1\n",
        "lassoModel = Lasso(alpha = 0.1)\n",
        "\n",
        "error_df = list()\n",
        "\n",
        "# Data that have not been one-hot encoded\n",
        "LR = lassoModel.fit(X_train, y_train)\n",
        "y_train_pred = LR.predict(X_train)\n",
        "y_test_pred = LR.predict(X_test)\n",
        "error_df.append(pd.Series({'train': mean_squared_error(y_train, y_train_pred),\n",
        "                           'test' : mean_squared_error(y_test,  y_test_pred)},\n",
        "                           name='no enc'))\n",
        "\n",
        "# Data that have been one-hot encoded\n",
        "LR = lassoModel.fit(X_train_ohc, y_train_ohc)\n",
        "y_train_ohc_pred = LR.predict(X_train_ohc)\n",
        "y_test_ohc_pred = LR.predict(X_test_ohc)\n",
        "\n",
        "error_df.append(pd.Series({'train': mean_squared_error(y_train_ohc, y_train_ohc_pred),\n",
        "                           'test' : mean_squared_error(y_test_ohc,  y_test_ohc_pred)},\n",
        "                          name='one-hot enc'))\n",
        "\n",
        "# Assemble the results\n",
        "error_df = pd.concat(error_df, axis=1)\n",
        "error_df\n"
      ],
      "execution_count": null,
      "outputs": [
        {
          "output_type": "stream",
          "text": [
            "/Users/apple/opt/anaconda3/lib/python3.7/site-packages/sklearn/linear_model/_coordinate_descent.py:476: ConvergenceWarning: Objective did not converge. You might want to increase the number of iterations. Duality gap: 424636133948.70264, tolerance: 610299085.7005944\n",
            "  positive)\n",
            "/Users/apple/opt/anaconda3/lib/python3.7/site-packages/sklearn/linear_model/_coordinate_descent.py:476: ConvergenceWarning: Objective did not converge. You might want to increase the number of iterations. Duality gap: 158615594246.56213, tolerance: 610299085.7005944\n",
            "  positive)\n"
          ],
          "name": "stderr"
        },
        {
          "output_type": "execute_result",
          "data": {
            "text/html": [
              "<div>\n",
              "<style scoped>\n",
              "    .dataframe tbody tr th:only-of-type {\n",
              "        vertical-align: middle;\n",
              "    }\n",
              "\n",
              "    .dataframe tbody tr th {\n",
              "        vertical-align: top;\n",
              "    }\n",
              "\n",
              "    .dataframe thead th {\n",
              "        text-align: right;\n",
              "    }\n",
              "</style>\n",
              "<table border=\"1\" class=\"dataframe\">\n",
              "  <thead>\n",
              "    <tr style=\"text-align: right;\">\n",
              "      <th></th>\n",
              "      <th>no enc</th>\n",
              "      <th>one-hot enc</th>\n",
              "    </tr>\n",
              "  </thead>\n",
              "  <tbody>\n",
              "    <tr>\n",
              "      <th>train</th>\n",
              "      <td>1.131507e+09</td>\n",
              "      <td>3.275169e+08</td>\n",
              "    </tr>\n",
              "    <tr>\n",
              "      <th>test</th>\n",
              "      <td>1.372184e+09</td>\n",
              "      <td>6.733616e+09</td>\n",
              "    </tr>\n",
              "  </tbody>\n",
              "</table>\n",
              "</div>"
            ],
            "text/plain": [
              "             no enc   one-hot enc\n",
              "train  1.131507e+09  3.275169e+08\n",
              "test   1.372184e+09  6.733616e+09"
            ]
          },
          "metadata": {
            "tags": []
          },
          "execution_count": 13
        }
      ]
    },
    {
      "cell_type": "markdown",
      "metadata": {
        "id": "gLtKB8jWgfyu"
      },
      "source": [
        "## 결과 분석\n",
        "# one hot encoding 적용한 이후 test data set에 대해 error값이 1.8874e+19에서 6.7336e+09로 에러값이 줄었다"
      ]
    },
    {
      "cell_type": "code",
      "metadata": {
        "id": "OmPdLqGBgfyv"
      },
      "source": [
        "# 아래 스케일링 기법을 적용하면 MSE값은 사실 더 준다. 하지만 조교님이 알려주신 알려준 답을 쓰는 것은 지양하고 싶었기에 보고서에는 기록하지 않았다."
      ],
      "execution_count": null,
      "outputs": []
    },
    {
      "cell_type": "markdown",
      "metadata": {
        "run_control": {
          "marked": true
        },
        "id": "_ODXA1qngfyv"
      },
      "source": [
        "Note that the error values on the one-hot encoded data are very different for the train and test data. In particular, the errors on the test data are much higher. Based on the lecture, this is because the one-hot encoded model is overfitting the data. We will learn how to deal with issues like this in the next lesson."
      ]
    },
    {
      "cell_type": "markdown",
      "metadata": {
        "run_control": {
          "marked": true
        },
        "id": "XB_r8dIQgfyv"
      },
      "source": [
        "## Question 5\n",
        "\n",
        "For each of the data sets (one-hot encoded and not encoded):\n",
        "\n",
        "* Scale the all the non-hot encoded values using one of the following: `StandardScaler`, `MinMaxScaler`, `MaxAbsScaler`.\n",
        "* Compare the error calculated on the test sets\n",
        "\n",
        "Be sure to calculate the skew (to decide if a transformation should be done) and fit the scaler on *ONLY* the training data, but then apply it to both the train and test data identically."
      ]
    },
    {
      "cell_type": "code",
      "metadata": {
        "id": "F-kFiZRngfyv"
      },
      "source": [
        "# Mute the setting wtih a copy warnings\n",
        "pd.options.mode.chained_assignment = None"
      ],
      "execution_count": null,
      "outputs": []
    },
    {
      "cell_type": "code",
      "metadata": {
        "id": "snaYR9mWgfyv",
        "outputId": "8a4c82ea-a970-49a7-9b40-b63d9d61d7ca"
      },
      "source": [
        "# dl\n",
        "from sklearn.preprocessing import StandardScaler\n",
        "msc = StandardScaler()\n",
        "\n",
        "data = pd.DataFrame(msc.fit_transform(data),  # this is an np.array, not a dataframe.\n",
        "                    columns=data.columns)"
      ],
      "execution_count": null,
      "outputs": [
        {
          "output_type": "error",
          "ename": "NameError",
          "evalue": "name 'pd' is not defined",
          "traceback": [
            "\u001b[0;31m---------------------------------------------------------------------------\u001b[0m",
            "\u001b[0;31mNameError\u001b[0m                                 Traceback (most recent call last)",
            "\u001b[0;32m<ipython-input-1-04c424b8f251>\u001b[0m in \u001b[0;36m<module>\u001b[0;34m\u001b[0m\n\u001b[1;32m      3\u001b[0m \u001b[0mmsc\u001b[0m \u001b[0;34m=\u001b[0m \u001b[0mStandardScaler\u001b[0m\u001b[0;34m(\u001b[0m\u001b[0;34m)\u001b[0m\u001b[0;34m\u001b[0m\u001b[0;34m\u001b[0m\u001b[0m\n\u001b[1;32m      4\u001b[0m \u001b[0;34m\u001b[0m\u001b[0m\n\u001b[0;32m----> 5\u001b[0;31m data = pd.DataFrame(msc.fit_transform(data),  # this is an np.array, not a dataframe.\n\u001b[0m\u001b[1;32m      6\u001b[0m                     columns=data.columns)\n",
            "\u001b[0;31mNameError\u001b[0m: name 'pd' is not defined"
          ]
        }
      ]
    },
    {
      "cell_type": "markdown",
      "metadata": {
        "run_control": {
          "marked": true
        },
        "id": "pU0YHKlygfyw"
      },
      "source": [
        "## Question 6\n",
        "\n",
        "Plot predictions vs actual for one of the models."
      ]
    },
    {
      "cell_type": "code",
      "metadata": {
        "run_control": {
          "marked": true
        },
        "id": "uhYCMuakgfyw"
      },
      "source": [
        "import matplotlib.pyplot as plt\n",
        "import seaborn as sns\n",
        "%matplotlib inline\n",
        "\n",
        "\n",
        "sns.set_context('talk')\n",
        "sns.set_style('ticks')\n",
        "sns.set_palette('dark')\n",
        "\n",
        "ax = plt.axes()\n",
        "# we are going to use y_test, y_test_pred\n",
        "ax.scatter(y_test, y_test_pred, alpha=.5)\n",
        "\n",
        "ax.set(xlabel='Ground truth',\n",
        "       ylabel='Predictions',\n",
        "       title='Ames, Iowa House Price Predictions vs Truth, using Linear Regression');"
      ],
      "execution_count": null,
      "outputs": []
    },
    {
      "cell_type": "code",
      "metadata": {
        "id": "t-R0Xo7Jgfyw"
      },
      "source": [],
      "execution_count": null,
      "outputs": []
    }
  ]
}